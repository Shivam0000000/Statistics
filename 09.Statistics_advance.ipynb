{
 "cells": [
  {
   "cell_type": "markdown",
   "id": "3025eea1-8988-4cd3-b3bb-041e8f129806",
   "metadata": {},
   "source": [
    "Q1. Write a Python function that takes in two arrays of data and calculates the F-value for a variance ratio\n",
    "test. The function should return the F-value and the corresponding p-value for the test.\n"
   ]
  },
  {
   "cell_type": "code",
   "execution_count": 4,
   "id": "2e7a41d3-2f83-423a-b7cc-bbc5a3517724",
   "metadata": {},
   "outputs": [
    {
     "name": "stdout",
     "output_type": "stream",
     "text": [
      "F-Value : 0.744621141253508\n",
      "P-Value : 0.6352841647111027\n"
     ]
    }
   ],
   "source": [
    "# import libraries\n",
    "import numpy as np\n",
    "from scipy.stats import f\n",
    "\n",
    "# Function Defination\n",
    "def F_test(arr1,arr2):\n",
    "    \n",
    "    df1=len(arr1)-1\n",
    "    df2=len(arr2)-1\n",
    "    F=np.var(arr1)/np.var(arr2)\n",
    "    p_value=1-f.cdf(F,df1,df2)\n",
    "    \n",
    "    return F,p_value\n",
    "\n",
    "# Two Array\n",
    "arr1=[23,32,45,21,40,37,34]\n",
    "arr2=[22,44,48,39,31,50,33]\n",
    "\n",
    "# Function call\n",
    "F,p_value=F_test(arr1,arr2)\n",
    "\n",
    "\n",
    "print(\"F-Value :\",F)       # 0.744621141253508\n",
    "print(\"P-Value :\",p_value) # 0.6352841647111027"
   ]
  },
  {
   "cell_type": "markdown",
   "id": "596f8cd0-d967-4e88-981c-b5702a081507",
   "metadata": {},
   "source": [
    "Q2. Given a significance level of 0.05 and the degrees of freedom for the numerator and denominator of an\n",
    "F-distribution, write a Python function that returns the critical F-value for a two-tailed test.\n"
   ]
  },
  {
   "cell_type": "code",
   "execution_count": 1,
   "id": "cfa7e050-ad6b-4446-a679-ee31e9546c01",
   "metadata": {},
   "outputs": [
    {
     "name": "stdout",
     "output_type": "stream",
     "text": [
      "Critical F-value: 3.8587\n"
     ]
    }
   ],
   "source": [
    "import scipy.stats as stats\n",
    "\n",
    "def critical_f_value(alpha, df_num, df_denom):\n",
    "    tail_prob = 1 - alpha / 2  # For a two-tailed test, divide alpha by 2 for each tail\n",
    "    critical_f = stats.f.ppf(tail_prob, df_num, df_denom)\n",
    "    return critical_f\n",
    "\n",
    "# Example usage\n",
    "alpha = 0.05\n",
    "df_num = 3  # Degrees of freedom for the numerator\n",
    "df_denom = 20  # Degrees of freedom for the denominator\n",
    "\n",
    "critical_f = critical_f_value(alpha, df_num, df_denom)\n",
    "\n",
    "\n",
    "print(f\"Critical F-value: {critical_f:.4f}\")  #3.8587"
   ]
  },
  {
   "cell_type": "markdown",
   "id": "37aeb970-6970-45a0-90c8-6e82e3de0a1e",
   "metadata": {},
   "source": [
    "Q3. Write a Python program that generates random samples from two normal distributions with known\n",
    "variances and uses an F-test to determine if the variances are equal. The program should output the F-\n",
    "value, degrees of freedom, and p-value for the test.\n",
    "\n"
   ]
  },
  {
   "cell_type": "code",
   "execution_count": 16,
   "id": "d9b25359-1d60-446d-9f08-9e8fe426fb92",
   "metadata": {},
   "outputs": [
    {
     "name": "stdout",
     "output_type": "stream",
     "text": [
      "F-value: 1.7856985436183157\n",
      "Degrees of freedom: 29 , 34\n",
      "p-value: 0.05264083655163332\n"
     ]
    }
   ],
   "source": [
    "\n",
    "# import libraries\n",
    "import numpy as np\n",
    "from scipy.stats import f\n",
    "\n",
    "\n",
    "# Sample1 Data\n",
    "mean1=0\n",
    "variance1=4\n",
    "sample1_size=30\n",
    "sample1=np.random.normal(mean1,np.sqrt(variance1),sample1_size)\n",
    "\n",
    "# Sample2 Data\n",
    "mean2=0\n",
    "variance2=3\n",
    "sample2_size=35\n",
    "sample2=np.random.normal(mean2,np.sqrt(variance2),sample2_size)\n",
    "\n",
    "# Function Defination\n",
    "def F_test(arr1,arr2):\n",
    "    \n",
    "    df1=len(arr1)-1\n",
    "    df2=len(arr2)-1\n",
    "    F=np.var(arr1)/np.var(arr2)\n",
    "    p_value=1-f.cdf(F,df1,df2)\n",
    "    \n",
    "    return F,p_value\n",
    "\n",
    "df1=sample1_size-1\n",
    "df2=sample2_size-1\n",
    "\n",
    "# Function call\n",
    "F,p_value=F_test(sample1,sample2)\n",
    "\n",
    "print(\"F-value:\", F)       # 1.7856985436183157\n",
    "print(\"Degrees of freedom:\", df1, \",\", df2)     # (29,34)\n",
    "print(\"p-value:\", p_value)         # 0.05264083655163332"
   ]
  },
  {
   "cell_type": "markdown",
   "id": "21d09add-79ca-4c9e-b2f6-678c040d3e60",
   "metadata": {},
   "source": [
    "Q4.The variances of two populations are known to be 10 and 15. A sample of 12 observations is taken from\n",
    "each population. Conduct an F-test at the 5% significance level to determine if the variances are\n",
    "significantly different.\n"
   ]
  },
  {
   "cell_type": "code",
   "execution_count": 44,
   "id": "b4e55976-0c63-4414-9d63-43c38d49318f",
   "metadata": {},
   "outputs": [
    {
     "name": "stdout",
     "output_type": "stream",
     "text": [
      "F-test : 0.5\n",
      "P-Value : 0.8671383942511135\n",
      "Fail to reject the null hypothesis: Variances are not significantly different.\n"
     ]
    }
   ],
   "source": [
    "\"\"\"\n",
    "Null hypothesis: Variances are not significantly different.\n",
    "Alternative hypothesis: Variances are significantly different.\n",
    "\"\"\"\n",
    "#import library\n",
    "from scipy.stats import f\n",
    "\n",
    "# Data\n",
    "variance1=10\n",
    "variance=15\n",
    "sample_size=12\n",
    "\n",
    "# Degree of freedom & aplha value\n",
    "df1=sample_size-1\n",
    "df2=sample_size-1\n",
    "alpha=0.05\n",
    "\n",
    "# find F-test value\n",
    "f_test=variance1/variance2\n",
    "print(\"F-test :\",f_test)  # 0.5\n",
    "\n",
    "# find P-value\n",
    "p_value=1-f.cdf(f_test,df1,df2)\n",
    "print(\"P-Value :\",p_value)    #  0.8671383942511135\n",
    "\n",
    "# Result\n",
    "if p_value <= alpha:\n",
    "    print(\"Reject the null hypothesis: Variances are significantly different.\")\n",
    "else:\n",
    "    print(\"Fail to reject the null hypothesis: Variances are not significantly different.\")"
   ]
  },
  {
   "cell_type": "markdown",
   "id": "dc2f1730-9938-4058-932e-a599a77b828b",
   "metadata": {},
   "source": [
    "Q5. A manufacturer claims that the variance of the diameter of a certain product is 0.005. A sample of 25\n",
    "products is taken, and the sample variance is found to be 0.006. Conduct an F-test at the 1% significance\n",
    "level to determine if the claim is justified.\n"
   ]
  },
  {
   "cell_type": "code",
   "execution_count": 40,
   "id": "92643eb3-4df5-4b1e-ba9a-b73e690250cc",
   "metadata": {},
   "outputs": [
    {
     "name": "stdout",
     "output_type": "stream",
     "text": [
      "F-test : 0.8333333333333334\n",
      "P-Value : 0.670634531718276\n",
      "Fail to reject the claim: The manufacturer's variance claim is justified.\n"
     ]
    }
   ],
   "source": [
    "\"\"\"\n",
    "Null hypothesis: The manufacturer's variance claim is justified.\n",
    "Alternative hypothesis: The manufacturer's variance claim is not justified.\n",
    "\"\"\"\n",
    "\n",
    "# import Labrary\n",
    "from scipy.stats import f\n",
    "\n",
    "# Parameters\n",
    "variance1=0.005\n",
    "variance2=0.006\n",
    "sample_size=25\n",
    "df1=sample_size-1\n",
    "df2=sample_size-1\n",
    "\n",
    "# F-test\n",
    "f_test=variance1/variance2\n",
    "print(\"F-test :\",f_test)  # 0.8333333333333334\n",
    "\n",
    "#P-value\n",
    "p_value=1-f.cdf(f_test,df1,df2)\n",
    "print(\"P-Value :\",p_value)  # 0.670634531718276\n",
    "\n",
    "alpha=0.01\n",
    "\n",
    "# Result\n",
    "if p_value <= alpha:\n",
    "    print(\"Reject the claim: The manufacturer's variance claim is not justified.\")\n",
    "else:\n",
    "    print(\"Fail to reject the claim: The manufacturer's variance claim is justified.\")"
   ]
  },
  {
   "cell_type": "markdown",
   "id": "c3756ae8-d93f-4170-9af2-3cff262564e6",
   "metadata": {},
   "source": [
    "Q6. Write a Python function that takes in the degrees of freedom for the numerator and denominator of an\n",
    "F-distribution and calculates the mean and variance of the distribution. The function should return the\n",
    "mean and variance as a tuple.\n"
   ]
  },
  {
   "cell_type": "code",
   "execution_count": 57,
   "id": "7f9a7fc5-d430-4dd0-85ed-630f0688dfee",
   "metadata": {},
   "outputs": [
    {
     "name": "stdout",
     "output_type": "stream",
     "text": [
      "Mean : 1.1538461538461537\n",
      "Variance : 0.556750941366326\n"
     ]
    }
   ],
   "source": [
    "# Function Defination\n",
    "def f_distribution_mean_variance(df_numerator, df_denominator):\n",
    "    if df_numerator <= 0 or df_denominator <= 0:\n",
    "        raise ValueError(\"Degrees of freedom must be positive.\")\n",
    "\n",
    "    # Calculate mean\n",
    "    if df_denominator > 2:\n",
    "        mean = df_denominator / (df_denominator - 2)\n",
    "    else:\n",
    "        mean = float('inf')  # Mean is undefined for df_denominator <= 2\n",
    "\n",
    "    # Calculate variance\n",
    "    if df_denominator > 4:\n",
    "        variance = (2*(df_denominator**2) * (df_numerator+df_denominator-2))/(df_numerator*(df_denominator-2)**2 * (df_denominator-4))\n",
    "    else:\n",
    "        variance = float('inf')  # Variance is undefined for df_denominator <= 4\n",
    "\n",
    "    return (mean, variance)\n",
    "\n",
    "\n",
    "# Parameters\n",
    "df_numerator = 10\n",
    "df_denominator = 15\n",
    "\n",
    "# Function Call\n",
    "mean_variance = f_distribution_mean_variance(df_numerator, df_denominator)\n",
    "\n",
    "# Result\n",
    "print(\"Mean :\",mean_variance[0])     # 1.1538461538461537\n",
    "print(\"Variance :\",mean_variance[1]) # 0.556750941366326"
   ]
  },
  {
   "cell_type": "markdown",
   "id": "0daa9748-ddda-47e1-b428-55d64e726360",
   "metadata": {},
   "source": [
    "Q7. A random sample of 10 measurements is taken from a normal population with unknown variance. The\n",
    "sample variance is found to be 25. Another random sample of 15 measurements is taken from another\n",
    "normal population with unknown variance, and the sample variance is found to be 20. Conduct an F-test\n",
    "at the 10% significance level to determine if the variances are significantly different.\n"
   ]
  },
  {
   "cell_type": "code",
   "execution_count": 45,
   "id": "83382d13-90df-42a3-bb06-f3d948d0acbc",
   "metadata": {},
   "outputs": [
    {
     "name": "stdout",
     "output_type": "stream",
     "text": [
      "F-test : 1.25\n",
      "P-value : 0.3416097191292977\n",
      "Fail to reject the null hypothesis: Variances are not significantly different.\n"
     ]
    }
   ],
   "source": [
    "\"\"\"\n",
    "Null hypothesis:  Variances are not significantly different.\n",
    "Alternative hypothesis: Variances are significantly different.\n",
    "\"\"\"\n",
    "# import libraries\n",
    "import numpy as np\n",
    "from scipy.stats import f\n",
    "\n",
    "# Data\n",
    "variance1=25\n",
    "variance2=20\n",
    "\n",
    "# Find F-Test value\n",
    "f_test=variance1/variance2\n",
    "print(\"F-test :\",f_test)  # 1.25\n",
    "\n",
    "# Degree of freedom & aplha value\n",
    "df1=9\n",
    "df2=14\n",
    "alpha=0.10\n",
    "\n",
    "# Find P-Value\n",
    "p_value=1-f.cdf(f_test,df1,df2)\n",
    "print(\"P-value :\",p_value)  #  0.3416097191292977\n",
    "\n",
    "# Result\n",
    "if p_value <= alpha:\n",
    "    print(\"Reject the null hypothesis: Variances are significantly different.\")\n",
    "else:\n",
    "    print(\"Fail to reject the null hypothesis: Variances are not significantly different.\")"
   ]
  },
  {
   "cell_type": "markdown",
   "id": "8c43ae84-a61b-441b-84c7-11ab8530c329",
   "metadata": {},
   "source": [
    "Q8. The following data represent the waiting times in minutes at two different restaurants on a Saturday\n",
    "night: Restaurant A: 24, 25, 28, 23, 22, 20, 27; Restaurant B: 31, 33, 35, 30, 32, 36. Conduct an F-test at the 5%\n",
    "significance level to determine if the variances are significantly different.\n"
   ]
  },
  {
   "cell_type": "code",
   "execution_count": 1,
   "id": "f0832f02-a03a-4b16-b79c-e6b4e53763b7",
   "metadata": {},
   "outputs": [
    {
     "name": "stdout",
     "output_type": "stream",
     "text": [
      "F-test : 1.496767651159843\n",
      "P-value : 0.3374133569640825\n",
      "Fail to reject the null hypothesis: Variances are not significantly different.\n"
     ]
    }
   ],
   "source": [
    "\"\"\"\n",
    "Null hypothesis:  Variances are not significantly different.\n",
    "Alternative hypothesis: Variances are significantly different.\n",
    "\"\"\"\n",
    "# import libraries\n",
    "import numpy as np\n",
    "from scipy.stats import f\n",
    "\n",
    "# Data\n",
    "restaurantA=np.array([24,25,28,23,22,20,27])\n",
    "restaurantB=np.array([31,33,35,30,32,36])\n",
    "\n",
    "# Find F-Test value\n",
    "f_test=np.var(restaurantA)/np.var(restaurantB)\n",
    "print(\"F-test :\",f_test)  # 1.496767651159843\n",
    "\n",
    "# Degree of freedom & aplha value\n",
    "df1=len(restaurantA)-1\n",
    "df2=len(restaurantB)-1\n",
    "alpha=0.05\n",
    "\n",
    "# Find P-Value\n",
    "p_value=1-f.cdf(f_test,df1,df2)\n",
    "print(\"P-value :\",p_value)  # 0.3374133569640825\n",
    "\n",
    "# Result\n",
    "if p_value <= alpha:\n",
    "    print(\"Reject the null hypothesis: Variances are significantly different.\")\n",
    "else:\n",
    "    print(\"Fail to reject the null hypothesis: Variances are not significantly different.\")\n",
    "    "
   ]
  },
  {
   "cell_type": "markdown",
   "id": "6b88afe0-8178-4de1-a012-96215cd8f876",
   "metadata": {},
   "source": [
    "Q9. The following data represent the test scores of two groups of students: Group A: 80, 85, 90, 92, 87, 83;\n",
    "Group B: 75, 78, 82, 79, 81, 84. Conduct an F-test at the 1% significance level to determine if the variances\n",
    "are significantly different."
   ]
  },
  {
   "cell_type": "code",
   "execution_count": 53,
   "id": "04c5fa2f-70cb-4797-a8f2-8f400308ac33",
   "metadata": {},
   "outputs": [
    {
     "name": "stdout",
     "output_type": "stream",
     "text": [
      "F-test : 1.9442622950819677\n",
      "P-value : 0.2415521774535344\n",
      "Fail to reject the null hypothesis: Variances are not significantly different.\n"
     ]
    }
   ],
   "source": [
    "\"\"\"\n",
    "Null hypothesis:  Variances are not significantly different.\n",
    "Alternative hypothesis: Variances are significantly different.\n",
    "\"\"\"\n",
    "# import libraries\n",
    "import numpy as np\n",
    "from scipy.stats import f\n",
    "\n",
    "# Data\n",
    "groupA=np.array([80, 85, 90, 92, 87, 83])\n",
    "groupB=np.array([75, 78, 82, 79, 81, 84])\n",
    "\n",
    "# Find F-Test value\n",
    "f_test=np.var(groupA)/np.var(groupB)\n",
    "print(\"F-test :\",f_test)  # 0.1.9442622950819677\n",
    "\n",
    "# Degree of freedom & aplha value\n",
    "df1=len(groupA)-1\n",
    "df2=len(groupB)-1\n",
    "alpha=0.01\n",
    "\n",
    "# Find P-Value\n",
    "p_value=1-f.cdf(f_test,df1,df2)\n",
    "print(\"P-value :\",p_value)  # 0.2415521774535344\n",
    "\n",
    "# Result\n",
    "if p_value <= alpha:\n",
    "    print(\"Reject the null hypothesis: Variances are significantly different.\")\n",
    "else:\n",
    "    print(\"Fail to reject the null hypothesis: Variances are not significantly different.\")"
   ]
  }
 ],
 "metadata": {
  "kernelspec": {
   "display_name": "Python 3 (ipykernel)",
   "language": "python",
   "name": "python3"
  },
  "language_info": {
   "codemirror_mode": {
    "name": "ipython",
    "version": 3
   },
   "file_extension": ".py",
   "mimetype": "text/x-python",
   "name": "python",
   "nbconvert_exporter": "python",
   "pygments_lexer": "ipython3",
   "version": "3.10.8"
  }
 },
 "nbformat": 4,
 "nbformat_minor": 5
}
