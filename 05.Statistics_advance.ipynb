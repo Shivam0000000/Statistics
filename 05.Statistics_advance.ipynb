{
 "cells": [
  {
   "cell_type": "markdown",
   "id": "8456ac55-8082-4f71-9424-6ff5586c1985",
   "metadata": {},
   "source": [
    "Q1: What is Estimation Statistics? Explain point estimate and interval estimate.\n"
   ]
  },
  {
   "cell_type": "code",
   "execution_count": 4,
   "id": "72d07c07-1f94-4039-b2e1-1d5beadf1dcc",
   "metadata": {},
   "outputs": [
    {
     "data": {
      "text/plain": [
       "'\\nEstimation statistics is a branch of statistics that deals with making predictions\\nor inferences about a population based on sample data. It involves estimating population\\nparameters (e.g., mean, proportion, standard deviation) using sample statistics.\\n\\n\\n\\nPoint Estimate: \\nA point estimate is a single value that serves as the best guess for the\\nunknown population parameter. It is calculated from the sample data and provides an \\napproximation of the true population value. For example, the sample mean is often used as\\na point estimate of the population mean.\\n\\nInterval Estimate: \\nAn interval estimate provides a range of values within which the true\\npopulation parameter is likely to lie. It includes both a lower and upper bound, and it \\nconveys the uncertainty associated with the estimate. The most common form of interval \\nestimate is the confidence interval, which gives a range of values around the point estimate \\nthat is likely to contain the true population parameter with a certain level of confidence\\n(e.g., 95% confidence interval).\\n'"
      ]
     },
     "execution_count": 4,
     "metadata": {},
     "output_type": "execute_result"
    }
   ],
   "source": [
    "\"\"\"\n",
    "Estimation statistics is a branch of statistics that deals with making predictions\n",
    "or inferences about a population based on sample data. It involves estimating population\n",
    "parameters (e.g., mean, proportion, standard deviation) using sample statistics.\n",
    "\n",
    "\n",
    "\n",
    "Point Estimate: \n",
    "A point estimate is a single value that serves as the best guess for the\n",
    "unknown population parameter. It is calculated from the sample data and provides an \n",
    "approximation of the true population value. For example, the sample mean is often used as\n",
    "a point estimate of the population mean.\n",
    "\n",
    "Interval Estimate: \n",
    "An interval estimate provides a range of values within which the true\n",
    "population parameter is likely to lie. It includes both a lower and upper bound, and it \n",
    "conveys the uncertainty associated with the estimate. The most common form of interval \n",
    "estimate is the confidence interval, which gives a range of values around the point estimate \n",
    "that is likely to contain the true population parameter with a certain level of confidence\n",
    "(e.g., 95% confidence interval).\n",
    "\"\"\""
   ]
  },
  {
   "cell_type": "markdown",
   "id": "c8cbd31e-70f3-496a-bad9-9953e19986ee",
   "metadata": {},
   "source": [
    "Q2. Write a Python function to estimate the population mean using a sample mean and standard\n",
    "deviation.\n"
   ]
  },
  {
   "cell_type": "code",
   "execution_count": 5,
   "id": "65339023-6f1a-46c5-a92e-9a5f02954932",
   "metadata": {},
   "outputs": [
    {
     "name": "stdout",
     "output_type": "stream",
     "text": [
      "I am 95% confident that population mean lie between  132.84309191526583  and  147.15690808473417\n"
     ]
    }
   ],
   "source": [
    "import math\n",
    "sample_mean=140\n",
    "sample_std=20\n",
    "sample_size=30\n",
    "\n",
    "confident_interval=.95\n",
    "\n",
    "\n",
    "z_table_area=1.96\n",
    "\n",
    "margin_of_error=(z_table_area)*(sample_std/math.sqrt(sample_size))\n",
    "\n",
    "lower_CI=sample_mean-margin_of_error\n",
    "upper_CI=sample_mean+margin_of_error\n",
    "\n",
    "print(\"I am 95% confident that population mean lie between \",lower_CI,\" and \",upper_CI)"
   ]
  },
  {
   "cell_type": "markdown",
   "id": "d402a19c-2f82-489f-9b76-82de0c0b9d5f",
   "metadata": {},
   "source": [
    "Q3: What is Hypothesis testing? Why is it used? State the importance of Hypothesis testing.\n"
   ]
  },
  {
   "cell_type": "code",
   "execution_count": 6,
   "id": "2fea6d4a-e4f0-4d0f-905a-fb3ed9689c65",
   "metadata": {},
   "outputs": [
    {
     "data": {
      "text/plain": [
       "'\\nHypothesis testing is a statistical method used to make decisions or draw conclusions\\nabout a population based on sample data. It involves formulating two competing hypotheses:\\nthe null hypothesis (H0), which represents the status quo or no effect, and the alternative \\nhypothesis (Ha), which represents the claim we want to test.\\n\\nThe process of hypothesis testing involves collecting sample data and calculating a test statistic\\nthat measures the difference between the sample data and what is expected under the null hypothesis.\\nThe test statistic is then used to assess the likelihood of observing the data if the null hypothesis\\nwere true. If the likelihood is very low (typically below a pre-defined significance level), we reject\\nthe null hypothesis in favor of the alternative hypothesis.\\n\\n\\n\\nImportance of Hypothesis Testing:\\n\\nMaking Inferences:\\nHypothesis testing allows us to draw conclusions about population parameters based on sample data,\\nmaking it a crucial tool for generalizing findings from a sample to a larger population.\\n\\nTesting Research Questions: \\nIn scientific research, hypothesis testing is used to determine whether there is enough evidence\\nto support a research hypothesis or claim. It helps researchers validate or refute theories and\\nexplanations.\\n\\nDecision Making: \\nIn practical applications, hypothesis testing aids in decision-making processes, such as testing \\nthe effectiveness of new treatments, assessing the impact of policies, or determining the quality\\nof manufacturing processes.\\n'"
      ]
     },
     "execution_count": 6,
     "metadata": {},
     "output_type": "execute_result"
    }
   ],
   "source": [
    "\"\"\"\n",
    "Hypothesis testing is a statistical method used to make decisions or draw conclusions\n",
    "about a population based on sample data. It involves formulating two competing hypotheses:\n",
    "the null hypothesis (H0), which represents the status quo or no effect, and the alternative \n",
    "hypothesis (Ha), which represents the claim we want to test.\n",
    "\n",
    "The process of hypothesis testing involves collecting sample data and calculating a test statistic\n",
    "that measures the difference between the sample data and what is expected under the null hypothesis.\n",
    "The test statistic is then used to assess the likelihood of observing the data if the null hypothesis\n",
    "were true. If the likelihood is very low (typically below a pre-defined significance level), we reject\n",
    "the null hypothesis in favor of the alternative hypothesis.\n",
    "\n",
    "\n",
    "\n",
    "Importance of Hypothesis Testing:\n",
    "\n",
    "Making Inferences:\n",
    "Hypothesis testing allows us to draw conclusions about population parameters based on sample data,\n",
    "making it a crucial tool for generalizing findings from a sample to a larger population.\n",
    "\n",
    "Testing Research Questions: \n",
    "In scientific research, hypothesis testing is used to determine whether there is enough evidence\n",
    "to support a research hypothesis or claim. It helps researchers validate or refute theories and\n",
    "explanations.\n",
    "\n",
    "Decision Making: \n",
    "In practical applications, hypothesis testing aids in decision-making processes, such as testing \n",
    "the effectiveness of new treatments, assessing the impact of policies, or determining the quality\n",
    "of manufacturing processes.\n",
    "\"\"\""
   ]
  },
  {
   "cell_type": "markdown",
   "id": "83b88721-5519-4f4f-b3b2-f13ab74507f7",
   "metadata": {},
   "source": [
    "Q4. Create a hypothesis that states whether the average weight of male college students is greater than\n",
    "the average weight of female college students.\n"
   ]
  },
  {
   "cell_type": "code",
   "execution_count": 7,
   "id": "d7a25069-45de-464a-8ebe-66f154448844",
   "metadata": {},
   "outputs": [
    {
     "data": {
      "text/plain": [
       "'\\nHypothesis: The average weight of male college students is greater than the average weight of\\n            female college students.\\n            \\n'"
      ]
     },
     "execution_count": 7,
     "metadata": {},
     "output_type": "execute_result"
    }
   ],
   "source": [
    "\"\"\"\n",
    "Hypothesis: The average weight of male college students is greater than the average weight of\n",
    "            female college students.\n",
    "            \n",
    "\"\"\"        "
   ]
  },
  {
   "cell_type": "markdown",
   "id": "1aa75831-ef42-43cb-9e6b-da1507db4e31",
   "metadata": {},
   "source": [
    "Q5. Write a Python script to conduct a hypothesis test on the difference between two population means,\n",
    "given a sample from each population.\n"
   ]
  },
  {
   "cell_type": "code",
   "execution_count": 8,
   "id": "2d1bde2e-1b7e-4890-9ece-ec57dae49c67",
   "metadata": {},
   "outputs": [
    {
     "name": "stdout",
     "output_type": "stream",
     "text": [
      "T-statistic: 2.0\n",
      "P-value: 0.08051623795726257\n",
      "There is no significant difference between the two groups.\n"
     ]
    }
   ],
   "source": [
    "import math\n",
    "import numpy as np\n",
    "from scipy.stats import ttest_ind\n",
    "\n",
    "group1 = np.array([20, 25, 30, 35, 40])\n",
    "group2 = np.array([10, 15, 20, 25, 30])\n",
    "\n",
    "t_statistic, p_value = ttest_ind(group1, group2)\n",
    "\n",
    "print(\"T-statistic:\", t_statistic)\n",
    "print(\"P-value:\", p_value)\n",
    "\n",
    "if p_value < 0.05:\n",
    "    print(\"There is a significant difference between the two groups.\")\n",
    "else:\n",
    "    print(\"There is no significant difference between the two groups.\")\n"
   ]
  },
  {
   "cell_type": "markdown",
   "id": "3a0e22ee-5699-4a05-b7ea-e5c01216a7bf",
   "metadata": {},
   "source": [
    "Q6: What is a null and alternative hypothesis? Give some examples.\n"
   ]
  },
  {
   "cell_type": "code",
   "execution_count": 9,
   "id": "a6eacfc7-17d8-4d5a-b853-341e0d653af5",
   "metadata": {},
   "outputs": [
    {
     "data": {
      "text/plain": [
       "'\\n\\nNull Hypothesis (H0):\\nThe null hypothesis represents the assumption of no effect, no difference, or no relationship\\nin the population. It is denoted as \"H0\" and is the default position that we want to test against.\\n\\nAlternative Hypothesis (H1 or Ha):\\nThe alternative hypothesis represents the claim or effect we want to investigate. It suggests that\\nthere is a significant effect, difference, or relationship in the population. It is denoted as\\n\"H1\" or \"Ha.\"\\n\\nExamples:\\n\\nNull Hypothesis: The average height of male students is equal to 175 cm.\\nAlternative Hypothesis: The average height of male students is not equal to 175 cm.\\n\\nNull Hypothesis: There is no difference in the effectiveness of two different drugs in treating a disease.\\nAlternative Hypothesis: There is a significant difference in the effectiveness of the two drugs.\\n\\nNull Hypothesis: The new marketing campaign does not increase sales.\\nAlternative Hypothesis: The new marketing campaign significantly increases sales.\\n'"
      ]
     },
     "execution_count": 9,
     "metadata": {},
     "output_type": "execute_result"
    }
   ],
   "source": [
    "\"\"\"\n",
    "\n",
    "Null Hypothesis (H0):\n",
    "The null hypothesis represents the assumption of no effect, no difference, or no relationship\n",
    "in the population. It is denoted as \"H0\" and is the default position that we want to test against.\n",
    "\n",
    "Alternative Hypothesis (H1 or Ha):\n",
    "The alternative hypothesis represents the claim or effect we want to investigate. It suggests that\n",
    "there is a significant effect, difference, or relationship in the population. It is denoted as\n",
    "\"H1\" or \"Ha.\"\n",
    "\n",
    "Examples:\n",
    "\n",
    "Null Hypothesis: The average height of male students is equal to 175 cm.\n",
    "Alternative Hypothesis: The average height of male students is not equal to 175 cm.\n",
    "\n",
    "Null Hypothesis: There is no difference in the effectiveness of two different drugs in treating a disease.\n",
    "Alternative Hypothesis: There is a significant difference in the effectiveness of the two drugs.\n",
    "\n",
    "Null Hypothesis: The new marketing campaign does not increase sales.\n",
    "Alternative Hypothesis: The new marketing campaign significantly increases sales.\n",
    "\"\"\""
   ]
  },
  {
   "cell_type": "markdown",
   "id": "51a9c29d-3de8-4f19-ac09-eb87f27f627a",
   "metadata": {},
   "source": [
    "Q7: Write down the steps involved in hypothesis testing.\n"
   ]
  },
  {
   "cell_type": "code",
   "execution_count": 10,
   "id": "0651feac-ed3b-495a-8d8a-9b771960f577",
   "metadata": {},
   "outputs": [
    {
     "data": {
      "text/plain": [
       "'\\nThere are the steps involved in hypothesis testing in a concise form:\\n\\n1-State the hypotheses (Null and Alternative).\\n2-Choose the significance level (α).\\n3-Select an appropriate test statistic.\\n4-Calculate the test statistic from the sample data.\\n5-Determine the critical region (rejection region) based on the significance level.\\n6-Compute the p-value.\\n7-Make a decision: Reject or fail to reject the null hypothesis based on the p-value and significance level.\\n8-Interpret the results in the context of the problem.\\n9-Draw conclusions based on the decision made in step 7.\\n'"
      ]
     },
     "execution_count": 10,
     "metadata": {},
     "output_type": "execute_result"
    }
   ],
   "source": [
    "\"\"\"\n",
    "There are the steps involved in hypothesis testing in a concise form:\n",
    "\n",
    "1-State the hypotheses (Null and Alternative).\n",
    "2-Choose the significance level (α).\n",
    "3-Select an appropriate test statistic.\n",
    "4-Calculate the test statistic from the sample data.\n",
    "5-Determine the critical region (rejection region) based on the significance level.\n",
    "6-Compute the p-value.\n",
    "7-Make a decision: Reject or fail to reject the null hypothesis based on the p-value and significance level.\n",
    "8-Interpret the results in the context of the problem.\n",
    "9-Draw conclusions based on the decision made in step 7.\n",
    "\"\"\""
   ]
  },
  {
   "cell_type": "markdown",
   "id": "ab4a6ffe-6cce-4a89-a9fc-302abe27441e",
   "metadata": {},
   "source": [
    "Q8. Define p-value and explain its significance in hypothesis testing.\n"
   ]
  },
  {
   "cell_type": "code",
   "execution_count": 11,
   "id": "53d738c8-7d9b-43dd-96a6-4ca823ad3146",
   "metadata": {},
   "outputs": [
    {
     "data": {
      "text/plain": [
       "'\\nDefinition of p-value:\\nThe p-value is the probability of obtaining the observed data (or more extreme) under the assumption that \\nthe null hypothesis is true.\\n\\n\\nSignificance in Hypothesis Testing:\\nThe p-value helps in hypothesis testing by quantifying the strength of evidence against the null hypothesis. \\nIf the p-value is small (typically less than the chosen significance level), we reject the null hypothesis\\nand support the alternative hypothesis. If the p-value is large, we fail to reject the null hypothesis due \\nto insufficient evidence. It helps in drawing conclusions and making decisions based on the statistical \\nsignificance of the data.\\n'"
      ]
     },
     "execution_count": 11,
     "metadata": {},
     "output_type": "execute_result"
    }
   ],
   "source": [
    "\"\"\"\n",
    "Definition of p-value:\n",
    "The p-value is the probability of obtaining the observed data (or more extreme) under the assumption that \n",
    "the null hypothesis is true.\n",
    "\n",
    "\n",
    "Significance in Hypothesis Testing:\n",
    "The p-value helps in hypothesis testing by quantifying the strength of evidence against the null hypothesis. \n",
    "If the p-value is small (typically less than the chosen significance level), we reject the null hypothesis\n",
    "and support the alternative hypothesis. If the p-value is large, we fail to reject the null hypothesis due \n",
    "to insufficient evidence. It helps in drawing conclusions and making decisions based on the statistical \n",
    "significance of the data.\n",
    "\"\"\""
   ]
  },
  {
   "cell_type": "markdown",
   "id": "0fb6d5a0-5ba9-4198-806c-2f06f1ec1a70",
   "metadata": {},
   "source": [
    "Q9. Generate a Student's t-distribution plot using Python's matplotlib library, with the degrees of freedom\n",
    "parameter set to 10.\n"
   ]
  },
  {
   "cell_type": "code",
   "execution_count": 23,
   "id": "96a3f946-e413-40b2-9423-1c615d00c91e",
   "metadata": {},
   "outputs": [
    {
     "data": {
      "image/png": "[encoded data removed]",
      "text/plain": [
       "<Figure size 640x480 with 1 Axes>"
      ]
     },
     "metadata": {},
     "output_type": "display_data"
    }
   ],
   "source": [
    "import numpy as np\n",
    "import matplotlib.pyplot as plt\n",
    "from scipy.stats import t\n",
    "\n",
    "degrees_of_freedom = 10\n",
    "\n",
    "x = np.linspace(-5,5,500)\n",
    "\n",
    "t_test=t.pdf(x,df=degrees_of_freedom)\n",
    "\n",
    "plt.plot(x, t_test, label=f\"Degrees of Freedom = {degrees_of_freedom}\")\n",
    "plt.title(\"Student's t-distribution\")\n",
    "plt.xlabel(\"t-values\")\n",
    "plt.ylabel(\"Probability Density\")\n",
    "plt.legend()\n",
    "\n",
    "plt.show()\n"
   ]
  },
  {
   "cell_type": "markdown",
   "id": "daea9b82-73bd-4168-85cd-91fb43b1e779",
   "metadata": {},
   "source": [
    "Q10. Write a Python program to calculate the two-sample t-test for independent samples, given two\n",
    "random samples of equal size and a null hypothesis that the population means are equal.\n"
   ]
  },
  {
   "cell_type": "code",
   "execution_count": 34,
   "id": "dbe62733-767d-4552-ad00-a1316a56dd08",
   "metadata": {},
   "outputs": [
    {
     "name": "stdout",
     "output_type": "stream",
     "text": [
      "t-value: ± 2.021\n",
      "t-test:  3.162277660168379\n",
      "\n",
      "The population means are not equal.\n"
     ]
    }
   ],
   "source": [
    "import math\n",
    "\n",
    "\"\"\"\n",
    "NULL hypothesis : the population means are equal.\n",
    "Alternative hypothesis : the population means are not equal.\n",
    "\"\"\"\n",
    "\n",
    "sample_size_1=20\n",
    "mean_1=50\n",
    "std1=15\n",
    "\n",
    "sample_size_2=20\n",
    "mean_2=40\n",
    "std1=10\n",
    "\n",
    "alpha=0.05\n",
    "\n",
    "sp =math.sqrt(((sample_size_1-1)*std1**2 + (sample_size_2 - 1)*std1**2)/(sample_size_1 + sample_size_2 - 2))\n",
    "nume=mean_1-mean_2\n",
    "deno=(1/sample_size_1)+(1/sample_size_2)\n",
    "t_test=nume/(sp*math.sqrt(deno))\n",
    "\n",
    "significance_level=0.05\n",
    "df=38\n",
    "t_value=2.021\n",
    "\n",
    "print(\"t-value: ±\",t_value)\n",
    "print(\"t-test: \",t_test)\n",
    "print()\n",
    "\n",
    "if t_test<t_value and t_test>-t_value:\n",
    "    print(\"The population means are equal.\")\n",
    "    \n",
    "else:\n",
    "    print(\"The population means are not equal.\")\n"
   ]
  },
  {
   "cell_type": "markdown",
   "id": "990a88cf-5c01-470a-b775-23332bde06a5",
   "metadata": {},
   "source": [
    "Q11: What is Student’s t distribution? When to use the t-Distribution.\n"
   ]
  },
  {
   "cell_type": "code",
   "execution_count": null,
   "id": "4d1be581-b8ac-47c3-943c-2bbb852a2097",
   "metadata": {},
   "outputs": [],
   "source": [
    "\"\"\"\n",
    "Student's t-distribution is a probability distribution that arises when we want to estimate the\n",
    "mean of a population based on a small sample, especially when the population's standard deviation\n",
    "is unknown. It is used in situations where the sample size is relatively small, and the underlying\n",
    "population follows a normal distribution.\n",
    "\n",
    "\n",
    "\n",
    "We should use the t-distribution when:\n",
    "\n",
    "1-You have a small sample size (typically less than 30).\n",
    "3-The population's standard deviation is unknown.\n",
    "4-The data is approximately normally distributed (or can be assumed to be normally distributed).\n",
    "\"\"\""
   ]
  },
  {
   "cell_type": "markdown",
   "id": "081c84d7-9e42-4647-9927-3b1d2cf7611d",
   "metadata": {},
   "source": [
    "Q12: What is t-statistic? State the formula for t-statistic.\n"
   ]
  },
  {
   "cell_type": "code",
   "execution_count": null,
   "id": "46b6082e-9eb8-49dd-bfaa-a792c11d8b89",
   "metadata": {},
   "outputs": [],
   "source": [
    "\"\"\"\n",
    "The t-statistic is a measure used in hypothesis testing to determine if the difference between a sample\n",
    "mean and a hypothesized population mean is statistically significant. It quantifies how many standard \n",
    "errors the sample mean is away from the population mean.\n",
    "\n",
    "\n",
    "Formula for t-statistic:\n",
    "\n",
    "t = (sample mean - hypothesized mean) / (sample standard deviation / square root of sample size)\n",
    "\"\"\""
   ]
  },
  {
   "cell_type": "markdown",
   "id": "31f40b85-4679-4483-9282-b1754e81ec80",
   "metadata": {},
   "source": [
    "Q13. A coffee shop owner wants to estimate the average daily revenue for their shop. They take a random\n",
    "sample of 50 days and find the sample mean revenue to be $500 with a standard deviation of $50.\n",
    "Estimate the population mean revenue with a 95% confidence interval.\n"
   ]
  },
  {
   "cell_type": "code",
   "execution_count": 27,
   "id": "994a9f8e-cfff-4ee3-b820-14d944a52a77",
   "metadata": {},
   "outputs": [
    {
     "name": "stdout",
     "output_type": "stream",
     "text": [
      "I am 95% confident that population mean lie between  486.1407070887437  and  513.8592929112564\n"
     ]
    }
   ],
   "source": [
    "import math\n",
    "sample_mean=500\n",
    "sample_std=50\n",
    "sample_size=50\n",
    "\n",
    "confident_interval=.95\n",
    "\n",
    "\n",
    "z_table_area=1.96\n",
    "\n",
    "margin_of_error=(z_table_area)*(sample_std/math.sqrt(sample_size))\n",
    "\n",
    "lower_CI=sample_mean-margin_of_error\n",
    "upper_CI=sample_mean+margin_of_error\n",
    "\n",
    "print(\"I am 95% confident that population mean lie between \",lower_CI,\" and \",upper_CI)"
   ]
  },
  {
   "cell_type": "markdown",
   "id": "b17578a3-79b1-412b-8c59-412d9a178f50",
   "metadata": {},
   "source": [
    "Q14. A researcher hypothesizes that a new drug will decrease blood pressure by 10 mmHg. They conduct a\n",
    "clinical trial with 100 patients and find that the sample mean decrease in blood pressure is 8 mmHg with a\n",
    "standard deviation of 3 mmHg. Test the hypothesis with a significance level of 0.05.\n"
   ]
  },
  {
   "cell_type": "code",
   "execution_count": 41,
   "id": "d8b68b6d-4870-4496-aec3-21a19fed754d",
   "metadata": {},
   "outputs": [
    {
     "name": "stdout",
     "output_type": "stream",
     "text": [
      "t-value:  -1.66\n",
      "t-test:  -6.666666666666667\n",
      "\n",
      "The new drug will decrease blood pressure by 10 mmHg.\n"
     ]
    }
   ],
   "source": [
    "import math\n",
    "\n",
    "\"\"\"\n",
    "Null hypothesis (H0): The new drug will not decrease blood pressure by 10 mmHg.\n",
    "Alternative hypothesis (H1): The new drug will decrease blood pressure by 10 mmHg.\n",
    "\"\"\"\n",
    "population_mean=10\n",
    "\n",
    "sample_size=100\n",
    "sample_mean=8\n",
    "sample_std=3\n",
    "\n",
    "aplha=0.05\n",
    "t_value=-1.660\n",
    "\n",
    "t_test=(sample_mean-population_mean)/(sample_std/math.sqrt(sample_size))\n",
    "\n",
    "print(\"t-value: \",t_value)\n",
    "print(\"t-test: \",t_test)\n",
    "print()\n",
    "\n",
    "if t_test<t_value:\n",
    "    print(\"The new drug will decrease blood pressure by 10 mmHg.\")\n",
    "else:\n",
    "    print(\"The new drug will not decrease blood pressure by 10 mmHg.\")"
   ]
  },
  {
   "cell_type": "markdown",
   "id": "4e3bfbb4-8732-4726-a8fe-cd5cdff093c0",
   "metadata": {},
   "source": [
    "Q15. An electronics company produces a certain type of product with a mean weight of 5 pounds and a\n",
    "standard deviation of 0.5 pounds. A random sample of 25 products is taken, and the sample mean weight\n",
    "is found to be 4.8 pounds. Test the hypothesis that the true mean weight of the products is less than 5\n",
    "pounds with a significance level of 0.01.\n"
   ]
  },
  {
   "cell_type": "code",
   "execution_count": 39,
   "id": "835e3118-8c67-4e4c-8140-012445506175",
   "metadata": {},
   "outputs": [
    {
     "name": "stdout",
     "output_type": "stream",
     "text": [
      "t-value:  -2.492\n",
      "t-test:  -2.0000000000000018\n",
      "The true weight of the products is not less than 5 pounds.\n"
     ]
    }
   ],
   "source": [
    "import math\n",
    "\n",
    "\"\"\"\n",
    "Null hypothesis (H0): The true weight of the products is not less than 5 pounds.\n",
    "Alternative hypothesis (H1): The true weight of the products is less than 5 pounds.\n",
    "\"\"\"\n",
    "\n",
    "population_mean=5\n",
    "population_std=0.5\n",
    "\n",
    "sample_size=25\n",
    "sample_mean=4.8\n",
    "sample_std=0.5\n",
    "\n",
    "alpha=0.01\n",
    "t_value=-2.492\n",
    "\n",
    "t_test=(sample_mean-population_mean)/(sample_std/math.sqrt(sample_size))\n",
    "\n",
    "print(\"t-value: \",t_value)\n",
    "print(\"t-test: \",t_test)\n",
    "\n",
    "if t_test>t_value:\n",
    "    print(\"The true weight of the products is not less than 5 pounds.\")\n",
    "else:\n",
    "    print(\"The true weight of the products is less than 5 pounds.\")    "
   ]
  },
  {
   "cell_type": "markdown",
   "id": "cae9cb6d-e2ac-416d-874e-21a018c58f0c",
   "metadata": {},
   "source": [
    "Q16. Two groups of students are given different study materials to prepare for a test. The first group (n1 =\n",
    "30) has a mean score of 80 with a standard deviation of 10, and the second group (n2 = 40) has a mean\n",
    "score of 75 with a standard deviation of 8. Test the hypothesis that the population means for the two\n",
    "groups are equal with a significance level of 0.01.\n"
   ]
  },
  {
   "cell_type": "code",
   "execution_count": 31,
   "id": "e301e7e6-a5f9-473c-8391-6952e52dbdcc",
   "metadata": {},
   "outputs": [
    {
     "name": "stdout",
     "output_type": "stream",
     "text": [
      "t-value: ± 2.635\n",
      "t-test:  2.3239677296992913\n",
      "\n",
      "the population means for the two groups are equal with a significance level of 0.01\n"
     ]
    }
   ],
   "source": [
    "import math\n",
    "\n",
    "\"\"\"\n",
    "NULL hypothesis: the population means for the two groups are equal with a \n",
    "                 significance level of 0.01.\n",
    "                 \n",
    "Alternative hypothesis: the population means for the two groups are not equal \n",
    "                        with a significance level of 0.01.              \n",
    "\"\"\"\n",
    "group1_size=30\n",
    "group1_mean=80\n",
    "group1_std=10\n",
    "\n",
    "group2_size=40\n",
    "group2_mean=75\n",
    "group2_std=8\n",
    "\n",
    "sp =math.sqrt(((group1_size-1)*group1_std**2 + (group2_size - 1)*group2_std**2)/(group1_size + group2_size - 2))\n",
    "nume=group1_mean-group2_mean\n",
    "deno=(1/group1_size)+(1/group2_size)\n",
    "t_test=nume/(sp*math.sqrt(deno))\n",
    "\n",
    "significance_level=0.01\n",
    "df=68\n",
    "t_value=2.635\n",
    "\n",
    "print(\"t-value: ±\",t_value)\n",
    "print(\"t-test: \",t_test)\n",
    "print()\n",
    "\n",
    "if t_test<t_value or t_test<-t_value:\n",
    "    print(\"the population means for the two groups are equal with a significance level of 0.01\")\n",
    "    \n",
    "else:\n",
    "    print(\"the population means for the two groups are not equal with a significance level of 0.01\")"
   ]
  },
  {
   "cell_type": "markdown",
   "id": "a785b135-c0a3-4e0e-84a5-968d04459541",
   "metadata": {},
   "source": [
    "Q17. A marketing company wants to estimate the average number of ads watched by viewers during a TV\n",
    "program. They take a random sample of 50 viewers and find that the sample mean is 4 with a standard\n",
    "deviation of 1.5. Estimate the population mean with a 99% confidence interval."
   ]
  },
  {
   "cell_type": "code",
   "execution_count": 1,
   "id": "55141d68-93f7-4bf7-a286-ed82754fda6f",
   "metadata": {},
   "outputs": [
    {
     "name": "stdout",
     "output_type": "stream",
     "text": [
      "I am 95% confident that population mean lie between  3.452699351361612  and  4.547300648638387\n"
     ]
    }
   ],
   "source": [
    "import math\n",
    "\n",
    "sample_mean=4\n",
    "sample_std=1.5\n",
    "sample_size=50\n",
    "\n",
    "alpha=0.01\n",
    "\n",
    "\n",
    "z_value=2.58\n",
    "\n",
    "margin_of_error=(z_value)*(sample_std/math.sqrt(sample_size))\n",
    "\n",
    "lower_CI=sample_mean-margin_of_error\n",
    "upper_CI=sample_mean+margin_of_error\n",
    "\n",
    "print(\"I am 95% confident that population mean lie between \",lower_CI,\" and \",upper_CI)"
   ]
  }
 ],
 "metadata": {
  "kernelspec": {
   "display_name": "Python 3 (ipykernel)",
   "language": "python",
   "name": "python3"
  },
  "language_info": {
   "codemirror_mode": {
    "name": "ipython",
    "version": 3
   },
   "file_extension": ".py",
   "mimetype": "text/x-python",
   "name": "python",
   "nbconvert_exporter": "python",
   "pygments_lexer": "ipython3",
   "version": "3.10.8"
  }
 },
 "nbformat": 4,
 "nbformat_minor": 5
}
