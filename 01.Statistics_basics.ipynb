{
 "cells": [
  {
   "cell_type": "markdown",
   "id": "56d6e415-aa2d-4560-9814-aff3103dc68b",
   "metadata": {},
   "source": [
    "Q1. What is Statistics?\n"
   ]
  },
  {
   "cell_type": "code",
   "execution_count": null,
   "id": "9f39f66b-33a1-4cf3-a69c-d980a35142d6",
   "metadata": {},
   "outputs": [],
   "source": [
    "\"\"\"Statistics is the study of data collection, organization, analysis, interpretation,\n",
    "   and presentation to make informed decisions and draw conclusions.\"\"\""
   ]
  },
  {
   "cell_type": "markdown",
   "id": "cbda540c-20e7-4e77-8b6c-fa087ed61dc1",
   "metadata": {},
   "source": [
    "Q2. Define the different types of statistics and give an example of when each type might be used.\n"
   ]
  },
  {
   "cell_type": "code",
   "execution_count": null,
   "id": "0e314176-ce54-4c9c-a3fe-64c917459142",
   "metadata": {},
   "outputs": [],
   "source": [
    "\"\"\"There are two type of statistics are: Descriptive and Inferential Statistics\"\"\"\n",
    "\n",
    "\"\"\"Descriptive statistics involves summarizing and presenting data to provide a clear\n",
    "   understanding of its characteristics.\n",
    "   \n",
    "   Examples include calculating measures like mean,median, and standard deviation to \n",
    "   describe the average and spread of exam scores in a class.\"\"\"\n",
    "\n",
    "\n",
    "\n",
    "\n",
    "\"\"\"Inferential statistics utilizes sample data to make inferences or predictions about\n",
    "   a larger population. \n",
    "   \n",
    "   For Example, conducting a survey on a sample group of voters to estimate the voting\n",
    "   preferences of an entire country during an election.\"\"\""
   ]
  },
  {
   "cell_type": "markdown",
   "id": "0523a46e-be2d-4237-a3dd-a45b4b8be8ed",
   "metadata": {},
   "source": [
    "Q3. What are the different types of data and how do they differ from each other? Provide an example of\n",
    "each type of data.\n",
    "\n"
   ]
  },
  {
   "cell_type": "code",
   "execution_count": null,
   "id": "4cfd8497-ae84-4ec0-a6ea-28cbb550c365",
   "metadata": {},
   "outputs": [],
   "source": [
    "\"\"\"(1) Categorical data: Also known as qualitative data, it represents categories or\n",
    "   labels and can't be measured on a numerical scale. \n",
    "   Examples include gender (male/female), hair color (blonde, brown, black), and car \n",
    "   brands (Toyota, Ford, Honda).\n",
    "\n",
    "   (2) Numerical data: Also known as quantitative data, it can be measured on a numerical\n",
    "   scale. It further divides into two types:\n",
    "\n",
    "   a. Discrete data: Consists of whole numbers or countable values. \n",
    "   Example: number of books on a shelf (1, 2, 3, ...).\n",
    "\n",
    "   b. Continuous data: Involves values that can take any real number within a range. \n",
    "   Example: temperature readings (23.5°C, 25.2°C, 28.9°C)."
   ]
  },
  {
   "cell_type": "markdown",
   "id": "7952ed33-f9bd-4a79-94e6-e0bc93baece8",
   "metadata": {},
   "source": [
    "Q4. Categorise the following datasets with respect to quantitative and qualitative data types:\n",
    "\n",
    "(i) Grading in exam: A+, A, B+, B, C+, C, D, E\n",
    "\n",
    "(ii) Colour of mangoes: yellow, green, orange, red\n",
    "\n",
    "(iii) Height data of a class: [178.9, 179, 179.5, 176, 177.2, 178.3, 175.8,...]\n",
    "\n",
    "(iv) Number of mangoes exported by a farm: [500, 600, 478, 672, ...]"
   ]
  },
  {
   "cell_type": "code",
   "execution_count": null,
   "id": "13adebd5-0c36-40a8-a0bd-f5999ddcdfb4",
   "metadata": {},
   "outputs": [],
   "source": [
    "\"\"\"Ans(i): Qualitative (Nominal Data)\n",
    "\n",
    "   Ans(ii): Qualitative (Nominal Data)\n",
    "\n",
    "   Ans(iii): Quantative (Continuous Data)\n",
    "\n",
    "   Ans(iv): Quantative (Discrete Data)\"\"\""
   ]
  },
  {
   "cell_type": "markdown",
   "id": "2d33c7e4-624e-436f-8421-d34789ef6a23",
   "metadata": {},
   "source": [
    "Q5. Explain the concept of levels of measurement and give an example of a variable for each level."
   ]
  },
  {
   "cell_type": "code",
   "execution_count": null,
   "id": "6dfb2222-8413-4dac-95aa-152a89ee2a66",
   "metadata": {},
   "outputs": [],
   "source": [
    "\"\"\"Levels of measurement classify variables based on their mathematical properties.\n",
    "   The four levels are:\n",
    "   (i) nominal (categories with no order)\n",
    "   (ii) ordinal (ranked categories)\n",
    "   (iii) interval (equal intervals, no true zero)\n",
    "   (iv) ratio (equal intervals with a true zero). \n",
    "   \n",
    "   Examples: Nominal - Eye colors (blue, brown)\n",
    "             Ordinal - Education levels (high school, college)\n",
    "             Interval - Temperature in Celsius\n",
    "             Ratio - Weight in kilograms.\"\"\""
   ]
  },
  {
   "cell_type": "markdown",
   "id": "339749c0-7896-4e0e-a9f2-4184111ee31d",
   "metadata": {},
   "source": [
    "Q6. Why is it important to understand the level of measurement when analyzing data? Provide an\n",
    "example to illustrate your answer.\n"
   ]
  },
  {
   "cell_type": "code",
   "execution_count": null,
   "id": "12f2956f-30d9-42d2-9b1c-3664c845ea6a",
   "metadata": {},
   "outputs": [],
   "source": [
    "\"\"\"Understanding the level of measurement is crucial because it determines the appropriate\n",
    "   statistical analysis and meaningful interpretations. Using the wrong analysis can lead\n",
    "   to erroneous conclusions. \n",
    "   For example, treating ordinal data as interval data could misrepresent the relationship\n",
    "   between rankings, leading to incorrect conclusions about the magnitude of differences \n",
    "   between categories.\"\""
   ]
  },
  {
   "cell_type": "markdown",
   "id": "86735296-3b28-412e-8446-5622c484dc3a",
   "metadata": {},
   "source": [
    "Q7. How nominal data type is different from ordinal data type.\n"
   ]
  },
  {
   "cell_type": "code",
   "execution_count": null,
   "id": "551c9ecb-c2fa-46a0-8ef7-aa5f7e188843",
   "metadata": {},
   "outputs": [],
   "source": [
    "\"\"\"Nominal data: Represents categories or labels with no inherent order or numerical value.\n",
    "   Examples include gender (male/female), colors (red, blue, green), or types of cars (sedan, SUV, truck).\n",
    "   In nominal data, categories are distinct and cannot be ranked or compared numerically.\n",
    "\n",
    "   Ordinal data: Involves categories that have a specific order or ranking, but the differences\n",
    "   between the categories are not precisely measurable. \n",
    "   Examples include educational levels (elementary, high school, college) or movie ratings \n",
    "   (1-star, 2-star, 3-star). \n",
    "   In ordinal data, the ranking provides information about the relative order,but the gaps\n",
    "   between categories do not have a consistent meaning.\"\"\""
   ]
  },
  {
   "cell_type": "markdown",
   "id": "49a0ce6b-7eca-4545-b215-62140bccb9a7",
   "metadata": {},
   "source": [
    "Q8. Which type of plot can be used to display data in terms of range?\n"
   ]
  },
  {
   "cell_type": "code",
   "execution_count": null,
   "id": "dcd7c703-8377-4b6d-8cb4-83424c18f7a6",
   "metadata": {},
   "outputs": [],
   "source": [
    "\"\"\"A boxplot type of plot can be to display data in terms of range\"\"\""
   ]
  },
  {
   "cell_type": "markdown",
   "id": "8084c917-2c76-4de6-a8ae-9d97920766f1",
   "metadata": {},
   "source": [
    "Q9. Describe the difference between descriptive and inferential statistics. Give an example of each\n",
    "type of statistics and explain how they are used.\n"
   ]
  },
  {
   "cell_type": "code",
   "execution_count": null,
   "id": "addee5c5-83e5-4d9d-91e2-f67847c04bb1",
   "metadata": {},
   "outputs": [],
   "source": [
    "\"\"\"\n",
    "Descriptive Statistics:\n",
    "\n",
    "   Definition: Descriptive statistics involve summarizing and presenting data in a meaningful way, describing\n",
    "               its main features, patterns, and characteristics.\n",
    "               \n",
    "   Example: Calculating the mean, median, and standard deviation of exam scores in a class to understand the\n",
    "            average performance and the spread of scores.\n",
    "            \n",
    "   Use: Descriptive statistics are used to organize and simplify large datasets, enabling researchers and \n",
    "        decision-makers to comprehend the data and gain initial insights.\n",
    "        \n",
    "        \n",
    "Inferential Statistics:\n",
    "   \n",
    "   Definition: Inferential statistics use sample data to make inferences or predictions about a larger\n",
    "               population. It involves generalizing findings and drawing conclusions beyond the observed sample.\n",
    "               \n",
    "   Example: Conducting a survey on a sample group of voters to estimate the voting preferences of the entire\n",
    "            population during an election.\n",
    "            \n",
    "   Use: Inferential statistics help researchers make decisions, test hypotheses, and draw conclusions about\n",
    "        populations, even when it is not feasible to collect data from every individual in that population.\n",
    "        It allows for generalizing results and making predictions based on representative samples.\"\"\""
   ]
  },
  {
   "cell_type": "markdown",
   "id": "8fab7baa-a974-460f-a684-c5e597b6f7e0",
   "metadata": {},
   "source": [
    "Q10. What are some common measures of central tendency and variability used in statistics? Explain\n",
    "how each measure can be used to describe a dataset."
   ]
  },
  {
   "cell_type": "code",
   "execution_count": null,
   "id": "dcd1f005-83b5-4dbb-99d3-e878a2c43d3c",
   "metadata": {},
   "outputs": [],
   "source": [
    "\"\"\"\n",
    "\n",
    "Measures of Central Tendency:\n",
    "\n",
    "      Mean: The arithmetic average of a dataset. It sums up all values and divides by the number of data points.\n",
    "            The mean provides an overall \"center\" of the data and is sensitive to outliers.\n",
    "      \n",
    "      Median: The middle value when the data is arranged in ascending or descending order. It is not influenced\n",
    "              by extreme values and gives a representative value for central tendency, making it suitable for\n",
    "             skewed distributions.\n",
    "        \n",
    "      Mode: The value that appears most frequently in the dataset. The mode is useful for categorical data or\n",
    "            discrete datasets with repeating values.\n",
    "            \n",
    "            \n",
    "            \n",
    "            \n",
    "Measures of Variability:\n",
    "\n",
    "      Range: The difference between the maximum and minimum values in the dataset. It provides an understanding\n",
    "             of the spread or dispersion of data, but it is sensitive to outliers.\n",
    "             \n",
    "      Variance: The average of the squared differences from the mean. Variance quantifies the spread of data\n",
    "                points from the mean, but it is not directly interpretable as it is in squared units.\n",
    "                \n",
    "      Standard Deviation: The square root of the variance. It measures the average deviation of data points \n",
    "                         from the mean and is more interpretable than variance as it is in the original units.\"\"\""
   ]
  }
 ],
 "metadata": {
  "kernelspec": {
   "display_name": "Python 3 (ipykernel)",
   "language": "python",
   "name": "python3"
  },
  "language_info": {
   "codemirror_mode": {
    "name": "ipython",
    "version": 3
   },
   "file_extension": ".py",
   "mimetype": "text/x-python",
   "name": "python",
   "nbconvert_exporter": "python",
   "pygments_lexer": "ipython3",
   "version": "3.10.8"
  }
 },
 "nbformat": 4,
 "nbformat_minor": 5
}
