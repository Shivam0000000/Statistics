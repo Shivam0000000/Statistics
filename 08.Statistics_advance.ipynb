{
 "cells": [
  {
   "cell_type": "markdown",
   "id": "e29bd5aa-9ab0-4656-9280-cafebafbd7f3",
   "metadata": {},
   "source": [
    "Q1. Explain the assumptions required to use ANOVA and provide examples of violations that could impact\n",
    "the validity of the results.\n"
   ]
  },
  {
   "cell_type": "code",
   "execution_count": null,
   "id": "d85dad58-f307-4f57-9203-8a488c0502fd",
   "metadata": {},
   "outputs": [],
   "source": [
    "\"\"\"\n",
    "Assumptions of ANOVA:\n",
    "\n",
    "Independence: The observations in each group should be independent of each other. This assumption is \n",
    "              violated when there is dependence or correlation among the observations within groups.\n",
    "\n",
    "Normality: The residuals (the differences between observed values and the group means) should follow a \n",
    "           normal distribution within each group. This assumption is violated when the residuals \n",
    "           deviate significantly from a normal distribution, leading to skewed or heavy-tailed distributions.\n",
    "\n",
    "Homoscedasticity: The variability of the residuals should be relatively constant across all groups. Violation \n",
    "                  of this assumption, known as heteroscedasticity, occurs when the variability is significantly \n",
    "                  different among groups.\n",
    "\n",
    "\n",
    "\n",
    "\n",
    "\n",
    "Examples of Violations:\n",
    "\n",
    "Independence Violation: In a study comparing the academic performance of students from different schools, if students \n",
    "                        from the same school are more likely to have similar scores due to shared teaching methods, \n",
    "                        the independence assumption is violated.\n",
    "\n",
    "Normality Violation: In a research comparing the effects of a new drug on different age groups, if the residuals exhibit\n",
    "                     a skewed distribution within each age group, the normality assumption is violated.\n",
    "\n",
    "Homoscedasticity Violation: Consider a study investigating the impact of different fertilizers on crop yield. If the \n",
    "                            variability of crop yields varies significantly among the different fertilizer groups, \n",
    "                            the assumption of homogeneity of variance is violated.\n",
    "\"\"\"                            "
   ]
  },
  {
   "cell_type": "markdown",
   "id": "6ade1abb-73b1-454f-8eb4-e42bfd0cdc7f",
   "metadata": {},
   "source": [
    "Q2. What are the three types of ANOVA, and in what situations would each be used?\n"
   ]
  },
  {
   "cell_type": "code",
   "execution_count": null,
   "id": "14c06192-35a5-442e-a941-f123c3177a2d",
   "metadata": {},
   "outputs": [],
   "source": [
    "\"\"\"\n",
    "There are three main types of ANOVA:\n",
    "\n",
    "1-One-Way ANOVA: This type of ANOVA is used when you have one categorical independent variable (factor) \n",
    "                 and one continuous dependent variable. It is used to determine whether there are statistically \n",
    "                 significant differences in the means of the dependent variable across different levels of the \n",
    "                 categorical variable.\n",
    "\n",
    "Example: A one-way ANOVA could be used to compare the average test scores of students from three different schools \n",
    "         to see if there are significant differences in performance.\n",
    "         \n",
    "         \n",
    "         \n",
    "\n",
    "2-Two-Way ANOVA: This type of ANOVA involves two independent variables (factors) and one continuous dependent variable. \n",
    "                 It assesses the interactions between the two factors and their individual effects on the dependent variable.\n",
    "\n",
    "Example: A two-way ANOVA could be used to examine the effects of both gender and different teaching methods on student test \n",
    "         scores to see if there are any interactions between these factors.\n",
    "\n",
    "\n",
    "\n",
    "\n",
    "3-Repeated Measures ANOVA: This type of ANOVA is used when the same subjects are measured under different conditions or at \n",
    "                           multiple time points. It assesses whether there are significant differences in the means of the \n",
    "                           dependent variable across these conditions or time points.\n",
    "\n",
    "Example: A repeated measures ANOVA could be used to analyze changes in participants' anxiety levels before and after different \n",
    "         therapeutic interventions to see if there are statistically significant changes.\n",
    "\"\"\"         "
   ]
  },
  {
   "cell_type": "markdown",
   "id": "83e3fe3f-67e6-4bcf-98d4-2aa36398c9d1",
   "metadata": {},
   "source": [
    "Q3. What is the partitioning of variance in ANOVA, and why is it important to understand this concept?\n"
   ]
  },
  {
   "cell_type": "code",
   "execution_count": null,
   "id": "b5d8e772-eb29-4f85-93a6-f0bda88d1d30",
   "metadata": {},
   "outputs": [],
   "source": [
    "\"\"\"\n",
    "The partitioning of variance in ANOVA involves breaking down total data variability into parts attributed to different factors.\n",
    "It's vital to understand because it helps us identify whether group differences are significant or due to chance, aiding in \n",
    "drawing accurate conclusions about the effects of variables or treatments being studied.\n",
    "\"\"\""
   ]
  },
  {
   "cell_type": "markdown",
   "id": "0ee41bbf-21b0-47f0-99a8-097e8baa9419",
   "metadata": {},
   "source": [
    "Q4. How would you calculate the total sum of squares (SST), explained sum of squares (SSE), and residual\n",
    "sum of squares (SSR) in a one-way ANOVA using Python?\n"
   ]
  },
  {
   "cell_type": "code",
   "execution_count": 1,
   "id": "5af1441a-d188-4b3e-bf78-3b443c0c6026",
   "metadata": {},
   "outputs": [
    {
     "name": "stdout",
     "output_type": "stream",
     "text": [
      "Total Sum of Squares (SST): 1120.0\n",
      "Explained Sum of Squares (SSR): 1000.0\n",
      "Residual Sum of Squares (SSE): 120.0\n",
      "F-Statistic: 50.0\n",
      "P-Value: 1.5127924217761546e-06\n"
     ]
    }
   ],
   "source": [
    "import numpy as np\n",
    "from scipy import stats\n",
    "\n",
    "# Sample data for each group\n",
    "group1 = np.array([10, 12, 14, 16, 18])\n",
    "group2 = np.array([20, 22, 24, 26, 28])\n",
    "group3 = np.array([30, 32, 34, 36, 38])\n",
    "\n",
    "\n",
    "# Calculation of mean of each sample\n",
    "group1_mean = np.mean(group1)\n",
    "group2_mean = np.mean(group2)\n",
    "group3_mean = np.mean(group3)\n",
    "\n",
    "# Calculation of Grand Average of mean\n",
    "x_bar=np.mean([group1_mean,group2_mean,group3_mean])\n",
    "\n",
    "# Calculation of SSR\n",
    "ssr=(((group1_mean-x_bar)**2)*len(group1)) + (((group2_mean-x_bar)**2)*len(group2)) + (((group3_mean-x_bar)**2)*len(group3))\n",
    "\n",
    "# Calculation of SSE\n",
    "sse=sum((group1-group1_mean)**2 + (group2-group2_mean)**2 + (group3-group3_mean)**2)\n",
    "\n",
    "# Calcuation of SST\n",
    "sst=ssr+sse\n",
    "\n",
    "\n",
    "# Calculate the Ratio of F-test\n",
    "df1=2   # c-1 :c-> no. of columns\n",
    "df2=12  # n-c :n-> no. of data points\n",
    "\n",
    "msc=ssr/df1\n",
    "mse=sse/df2\n",
    "\n",
    "f_test=msc/mse\n",
    "\n",
    "\n",
    "p_value = 1 - stats.f.cdf(f_test,df1,df2)\n",
    "\n",
    "print(\"Total Sum of Squares (SST):\", sst)\n",
    "print(\"Explained Sum of Squares (SSR):\", ssr)\n",
    "print(\"Residual Sum of Squares (SSE):\", sse)\n",
    "print(\"F-Statistic:\", f_test)\n",
    "print(\"P-Value:\", p_value)"
   ]
  },
  {
   "cell_type": "markdown",
   "id": "d5105d38-a829-4d25-a457-2245a9ace0d6",
   "metadata": {},
   "source": [
    "Q5. In a two-way ANOVA, how would you calculate the main effects and interaction effects using Python?\n"
   ]
  },
  {
   "cell_type": "code",
   "execution_count": 19,
   "id": "cfedc73b-e5a2-43d0-95cc-13abc13235e2",
   "metadata": {},
   "outputs": [
    {
     "name": "stdout",
     "output_type": "stream",
     "text": [
      "                        df        sum_sq       mean_sq    F  PR(>F)\n",
      "C(Factor1)             2.0  6.000000e+02  3.000000e+02  0.0     NaN\n",
      "C(Factor2)             2.0  3.800000e+01  1.900000e+01  0.0     NaN\n",
      "C(Factor1):C(Factor2)  4.0  1.656608e-29  4.141520e-30  0.0     NaN\n",
      "Residual               0.0  1.798603e-28           inf  NaN     NaN\n"
     ]
    },
    {
     "name": "stderr",
     "output_type": "stream",
     "text": [
      "/opt/conda/lib/python3.10/site-packages/statsmodels/stats/anova.py:138: RuntimeWarning: divide by zero encountered in double_scalars\n",
      "  (model.ssr / model.df_resid))\n"
     ]
    }
   ],
   "source": [
    "import pandas as pd\n",
    "import statsmodels.api as sm\n",
    "from statsmodels.formula.api import ols\n",
    "\n",
    "# Create a sample dataset\n",
    "data = {'Factor1': [1, 1, 1, 2, 2, 2, 3, 3, 3],\n",
    "        'Factor2': [1, 2, 3, 1, 2, 3, 1, 2, 3],\n",
    "        'Dependent': [10, 12, 15, 20, 22, 25, 30, 32, 35]}\n",
    "df = pd.DataFrame(data)\n",
    "\n",
    "# Fit the two-way ANOVA model\n",
    "formula = 'Dependent ~ C(Factor1) + C(Factor2) + C(Factor1):C(Factor2)'\n",
    "model = ols(formula, data=df).fit()\n",
    "anova_table = sm.stats.anova_lm(model)\n",
    "\n",
    "# Print the ANOVA table\n",
    "print(anova_table)\n"
   ]
  },
  {
   "cell_type": "markdown",
   "id": "0ffda1fb-7caf-43f5-89ab-939a37901892",
   "metadata": {},
   "source": [
    "Q6. Suppose you conducted a one-way ANOVA and obtained an F-statistic of 5.23 and a p-value of 0.02.\n",
    "What can you conclude about the differences between the groups, and how would you interpret these\n",
    "results?\n"
   ]
  },
  {
   "cell_type": "code",
   "execution_count": null,
   "id": "4ec7a9ed-c15f-4846-bdfb-642cf6a3cf5b",
   "metadata": {},
   "outputs": [],
   "source": [
    "\"\"\"\n",
    "One-way ANOVA, the F-statistic is used to test the null hypothesis that all group means are equal against the alternative \n",
    "hypothesis that at least one group mean is different. The p-value associated with the F-statistic tells you the probability \n",
    "of observing the obtained F-statistic (or a more extreme value) if the null hypothesis were true.\n",
    "\n",
    "\n",
    "Given that you obtained an F-statistic of 5.23 and a p-value of 0.02, here's how you can interpret these results:\n",
    "\n",
    "\n",
    "1-Interpretation of the F-Statistic:\n",
    "The F-statistic value of 5.23 indicates the ratio of variability between the group means to the variability within the groups.\n",
    "A higher F-statistic suggests that there might be significant differences between the group means. However, the interpretation \n",
    "of the F-statistic alone is not sufficient to make a definitive conclusion.\n",
    "\n",
    "\n",
    "2-Interpretation of the P-Value:\n",
    "The p-value of 0.02 is the probability of observing an F-statistic as extreme as 5.23 (or more extreme) under the assumption that \n",
    "the group means are equal. A p-value of 0.02 indicates that there is a 2% chance of observing such a large F-statistic if the null\n",
    "hypothesis (all group means are equal) were true.\n",
    "\n",
    "3-Decision:\n",
    "Typically, in hypothesis testing, you compare the p-value to a predetermined significance level (alpha). If the p-value is less than \n",
    "alpha, you reject the null hypothesis. Common significance levels are 0.05 or 0.01. In your case, with a p-value of 0.02, if you're\n",
    "using a significance level of 0.05, you would reject the null hypothesis.\n",
    "\n",
    "4-Conclusion:\n",
    "With a p-value of 0.02 and the decision to reject the null hypothesis, you can conclude that there are statistically significant \n",
    "differences between at least some of the groups. In other words, there is evidence to suggest that at least one group mean is different \n",
    "from the others.\n",
    "\"\"\""
   ]
  },
  {
   "cell_type": "markdown",
   "id": "b3cb1490-3ad8-4616-8dbd-4ad28cdfc869",
   "metadata": {},
   "source": [
    "Q7. In a repeated measures ANOVA, how would you handle missing data, and what are the potential\n",
    "consequences of using different methods to handle missing data?\n"
   ]
  },
  {
   "cell_type": "code",
   "execution_count": null,
   "id": "6e57da4d-b96d-46a6-86a3-4bec9ad03654",
   "metadata": {},
   "outputs": [],
   "source": [
    "\"\"\"\n",
    "In a repeated measures ANOVA, you can handle missing data using methods like:\n",
    "\n",
    "1-Listwise Deletion: Removing cases with any missing data. Can lead to loss of information and bias.\n",
    "\n",
    "2-Mean Imputation: Replacing missing values with variable means. Underestimates variability and distorts relationships.\n",
    "\n",
    "3-Last Observation Carried Forward (LOCF): Using the last observed value for imputing missing data. Assumes stability over time.\n",
    "\n",
    "4-Linear Interpolation: Estimating missing values based on observed trends. Assumes linearity and may not fit all data.\n",
    "\n",
    "5-Multiple Imputation: Generating multiple plausible values to account for uncertainty. Accurate but computationally intensive.\n",
    "\n",
    "6-Mixed Models: Incorporating all available data with random effects. Handles missing data while considering within-subject correlation.\n",
    "\n",
    "\n",
    "\n",
    "\n",
    "Potential consequences of using different methods:\n",
    "\n",
    "1-Bias: Listwise deletion and mean imputation can introduce bias if missingness is related to studied variables.\n",
    "\n",
    "2-Underestimation of Variability: Mean imputation and LOCF underestimate variability by ignoring uncertainty.\n",
    "\n",
    "3-Distorted Relationships: Imputation methods can distort variable relationships, leading to incorrect conclusions.\n",
    "\n",
    "4-Efficiency and Precision: Methods like multiple imputation and mixed models are more efficient and precise, but can be complex.\n",
    "\"\"\""
   ]
  },
  {
   "cell_type": "markdown",
   "id": "f97d79d5-2157-4ad1-b370-78c78f287c97",
   "metadata": {},
   "source": [
    "Q8. What are some common post-hoc tests used after ANOVA, and when would you use each one? Provide\n",
    "an example of a situation where a post-hoc test might be necessary.\n"
   ]
  },
  {
   "cell_type": "code",
   "execution_count": null,
   "id": "2e4591fe-023f-4899-a62f-b2eff93029f1",
   "metadata": {},
   "outputs": [],
   "source": [
    "\"\"\"\n",
    "Common post-hoc tests after ANOVA and their uses:\n",
    "\n",
    "1-Tukey's HSD: Compares all possible pairs of group means; useful when you want to examine all pairwise differences simultaneously.\n",
    "Situation: Comparing the effects of different fertilizer treatments on crop yield.\n",
    "\n",
    "2-Bonferroni Correction: Controls familywise error rate when making multiple comparisons.\n",
    "Situation: Investigating differences in reaction times among various experimental conditions.\n",
    "\n",
    "3-Dunnett's Test: Compares treatment groups against a control group.\n",
    "Situation: Analyzing the impact of various drugs compared to a placebo in a clinical trial.\n",
    "\n",
    "4-Scheffe's Test: Provides broader comparisons while controlling familywise error rate.\n",
    "Situation: Exploring the impact of different marketing strategies across multiple regions.\n",
    "\n",
    "5-Holm's Method: Sequentially adjusts p-values to control familywise error rate.\n",
    "Situation: Comparing sales performance of different products after a marketing campaign.\n",
    "\n",
    "6-Games-Howell Test: Accounts for unequal group variances.\n",
    "Situation: Evaluating the effectiveness of different teaching methods across classrooms with varying levels of student variability.\n",
    "\n",
    "7-Fisher's LSD: Assumes equal sample sizes and variances.\n",
    "Situation: Studying the effect of temperature on enzyme activity across different enzyme types.\n",
    "\"\"\""
   ]
  },
  {
   "cell_type": "markdown",
   "id": "a294882f-75e7-4368-b8b2-0b64324f47c6",
   "metadata": {},
   "source": [
    "Q9. A researcher wants to compare the mean weight loss of three diets: A, B, and C. They collect data from\n",
    "50 participants who were randomly assigned to one of the diets. Conduct a one-way ANOVA using Python\n",
    "to determine if there are any significant differences between the mean weight loss of the three diets.\n",
    "Report the F-statistic and p-value, and interpret the results.\n"
   ]
  },
  {
   "cell_type": "code",
   "execution_count": 37,
   "id": "2d89fac9-7593-41ce-be95-f8cba7f9e4d4",
   "metadata": {},
   "outputs": [
    {
     "name": "stdout",
     "output_type": "stream",
     "text": [
      "F-Statistic: 0.20769587389893374\n",
      "P-Value: 0.8126920913022598\n",
      "There is no significant difference between the mean weight loss of the three diets.\n"
     ]
    }
   ],
   "source": [
    "from scipy import stats\n",
    "import numpy as np\n",
    "\n",
    "diet_a=np.random.randint(1,6,50)\n",
    "diet_b=np.random.randint(1,6,50)\n",
    "diet_c=np.random.randint(1,6,50)\n",
    "\n",
    "# Perform one-way ANOVA\n",
    "f_statistic, p_value = stats.f_oneway(diet_a, diet_b, diet_c)\n",
    "\n",
    "# Print results\n",
    "print(\"F-Statistic:\", f_statistic)  # 0.20769587389893374\n",
    "print(\"P-Value:\", p_value)          # 0.8126920913022598\n",
    "\n",
    "# Interpretation\n",
    "alpha = 0.05\n",
    "if p_value < alpha:\n",
    "    print(\"There are significant differences between the mean weight loss of the three diets.\")\n",
    "else:\n",
    "    print(\"There is no significant difference between the mean weight loss of the three diets.\")"
   ]
  },
  {
   "cell_type": "markdown",
   "id": "4846760e-eb95-4c6a-9750-f6102570b5bc",
   "metadata": {},
   "source": [
    "Q10. A company wants to know if there are any significant differences in the average time it takes to\n",
    "complete a task using three different software programs: Program A, Program B, and Program C. They\n",
    "randomly assign 30 employees to one of the programs and record the time it takes each employee to\n",
    "complete the task. Conduct a two-way ANOVA using Python to determine if there are any main effects or\n",
    "interaction effects between the software programs and employee experience level (novice vs.\n",
    "experienced). Report the F-statistics and p-values, and interpret the results.\n"
   ]
  },
  {
   "cell_type": "code",
   "execution_count": 4,
   "id": "0135c5ac-7dda-43d1-827d-dffa2781f90c",
   "metadata": {},
   "outputs": [
    {
     "name": "stdout",
     "output_type": "stream",
     "text": [
      "Two-way ANOVA results:\n",
      "                             df       sum_sq    mean_sq         F    PR(>F)\n",
      "C(Software)                 2.0    14.915179   7.457590  0.284149  0.753773\n",
      "C(Experience)               1.0     5.327206   5.327206  0.202977  0.654132\n",
      "C(Software):C(Experience)   2.0    48.659798  24.329899  0.927018  0.401937\n",
      "Residual                   54.0  1417.248092  26.245335       NaN       NaN\n"
     ]
    }
   ],
   "source": [
    "import pandas as pd\n",
    "import numpy as np\n",
    "import statsmodels.api as sm\n",
    "from statsmodels.formula.api import ols\n",
    "from statsmodels.stats.anova import anova_lm\n",
    "\n",
    "# Set a random seed for reproducibility\n",
    "np.random.seed(42)\n",
    "\n",
    "# Number of employees per combination\n",
    "sample_size = 30\n",
    "\n",
    "# Software programs and experience levels\n",
    "software_programs = [\"A\", \"B\", \"C\"]\n",
    "experience_levels = [\"Novice\", \"Experienced\"]\n",
    "\n",
    "# Generate random completion time data\n",
    "data = {\n",
    "    \"Software\": np.random.choice(software_programs, size=sample_size*len(experience_levels)),\n",
    "    \"Experience\": np.repeat(experience_levels, sample_size),\n",
    "    \"CompletionTime\": np.random.normal(loc=20, scale=5, size=sample_size*len(experience_levels))\n",
    "}\n",
    "\n",
    "df = pd.DataFrame(data)\n",
    "\n",
    "# Perform two-way ANOVA\n",
    "formula = \"CompletionTime ~ C(Software) + C(Experience) + C(Software):C(Experience)\"\n",
    "model = ols(formula, df).fit()\n",
    "anova_results = anova_lm(model)\n",
    "\n",
    "print(\"Two-way ANOVA results:\")\n",
    "print(anova_results)"
   ]
  },
  {
   "cell_type": "markdown",
   "id": "9500959c-ac4c-453a-a000-1ae6cd7f2868",
   "metadata": {},
   "source": [
    "Q11. An educational researcher is interested in whether a new teaching method improves student test\n",
    "scores. They randomly assign 100 students to either the control group (traditional teaching method) or the\n",
    "experimental group (new teaching method) and administer a test at the end of the semester. Conduct a\n",
    "two-sample t-test using Python to determine if there are any significant differences in test scores\n",
    "between the two groups. If the results are significant, follow up with a post-hoc test to determine which\n",
    "group(s) differ significantly from each other.\n"
   ]
  },
  {
   "cell_type": "code",
   "execution_count": 2,
   "id": "a4c68c71-a3e1-4210-a293-132e86fc6ca6",
   "metadata": {},
   "outputs": [
    {
     "name": "stdout",
     "output_type": "stream",
     "text": [
      "Two-sample t-test results:\n",
      "T-statistic: -1.5145993158288127\n",
      "P-value: 0.13299720382873373\n",
      "There is no significant difference between the groups.\n"
     ]
    }
   ],
   "source": [
    "import numpy as np\n",
    "from scipy import stats\n",
    "import statsmodels.api as sm\n",
    "from statsmodels.stats.multicomp import MultiComparison\n",
    "\n",
    "# Test scores for the control and experimental groups\n",
    "control_scores = np.random.randint(70,100,100)  # Replace with actual data\n",
    "experimental_scores = np.array([75,100,100])  # Replace with actual data\n",
    "\n",
    "# Perform a two-sample t-test\n",
    "t_stat, p_value = stats.ttest_ind(control_scores, experimental_scores)\n",
    "\n",
    "print(\"Two-sample t-test results:\")\n",
    "print(\"T-statistic:\", t_stat)\n",
    "print(\"P-value:\", p_value)\n",
    "\n",
    "# Check if the p-value is significant (e.g., p < 0.05)\n",
    "if p_value < 0.05:\n",
    "    print(\"There is a significant difference between the groups.\")\n",
    "\n",
    "    # Perform a post-hoc test (Tukey's HSD) for multiple comparisons\n",
    "    data = np.concatenate([control_scores, experimental_scores])\n",
    "    group_labels = ['Control'] * len(control_scores) + ['Experimental'] * len(experimental_scores)\n",
    "    mc = MultiComparison(data, group_labels)\n",
    "    result = mc.tukeyhsd()\n",
    "\n",
    "    print(\"\\nPost-hoc (Tukey's HSD) test results:\")\n",
    "    print(result)\n",
    "\n",
    "else:\n",
    "    print(\"There is no significant difference between the groups.\")\n"
   ]
  },
  {
   "cell_type": "markdown",
   "id": "345fd507-7f3a-4286-914e-fb8a35bc65a7",
   "metadata": {},
   "source": [
    "Q12. A researcher wants to know if there are any significant differences in the average daily sales of three\n",
    "retail stores: Store A, Store B, and Store C. They randomly select 30 days and record the sales for each store\n",
    "on those days. Conduct a repeated measures ANOVA using Python to determine if there are any significant differences\n",
    "in sales between the three stores. If the results are significant, follow up with a post-hoc test to determine which \n",
    "store(s) differ significantly from each other."
   ]
  },
  {
   "cell_type": "code",
   "execution_count": 17,
   "id": "a958aa6f-a701-489c-9b48-ab6438290816",
   "metadata": {},
   "outputs": [
    {
     "name": "stdout",
     "output_type": "stream",
     "text": [
      "  Source  ddof1  ddof2          F         p-unc     p-GG-corr       ng2  \\\n",
      "0  Store      2     58  37.819864  3.071000e-11  4.125821e-09  0.348213   \n",
      "\n",
      "        eps  sphericity   W-spher   p-spher  \n",
      "0  0.764743       False  0.692372  0.005818  \n",
      "         A        B  mean(A)     mean(B)       diff        se         T  \\\n",
      "0  Store_A  Store_B    132.0  124.000000   8.000000  1.835509  4.358464   \n",
      "1  Store_A  Store_C    132.0  119.666667  12.333333  1.835509  6.719299   \n",
      "2  Store_B  Store_C    124.0  119.666667   4.333333  1.835509  2.360835   \n",
      "\n",
      "        p-tukey    hedges  \n",
      "0  1.051842e-04  1.214909  \n",
      "1  5.424461e-09  1.699230  \n",
      "2  5.291392e-02  0.561383  \n"
     ]
    }
   ],
   "source": [
    "import pandas as pd\n",
    "import pingouin as pg\n",
    "from pingouin.pairwise import pairwise_tukey\n",
    "\n",
    "# Assuming you have your data in the sales_df DataFrame\n",
    "\n",
    "# Melt the data to long format for repeated measures ANOVA\n",
    "long_df = pd.melt(sales_df, id_vars=['Day'], value_vars=['Store_A', 'Store_B', 'Store_C'],\n",
    "                  var_name='Store', value_name='Sales')\n",
    "\n",
    "# Repeated Measures ANOVA\n",
    "rm_anova = pg.rm_anova(data=long_df, dv='Sales', within='Store', subject='Day')\n",
    "print(rm_anova)\n",
    "\n",
    "# Post-hoc pairwise comparisons using Tukey's HSD\n",
    "posthoc = pairwise_tukey(data=long_df, dv='Sales', between='Store')\n",
    "print(posthoc)\n"
   ]
  }
 ],
 "metadata": {
  "kernelspec": {
   "display_name": "Python 3 (ipykernel)",
   "language": "python",
   "name": "python3"
  },
  "language_info": {
   "codemirror_mode": {
    "name": "ipython",
    "version": 3
   },
   "file_extension": ".py",
   "mimetype": "text/x-python",
   "name": "python",
   "nbconvert_exporter": "python",
   "pygments_lexer": "ipython3",
   "version": "3.10.8"
  }
 },
 "nbformat": 4,
 "nbformat_minor": 5
}
