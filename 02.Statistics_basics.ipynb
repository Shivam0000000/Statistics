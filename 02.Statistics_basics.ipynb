{
 "cells": [
  {
   "cell_type": "markdown",
   "id": "a4b48947-944a-4063-b33a-d18101d8f18e",
   "metadata": {},
   "source": [
    "Q1. What are the three measures of central tendency?\n"
   ]
  },
  {
   "cell_type": "code",
   "execution_count": null,
   "id": "5c6e30f9-6cc0-4ed9-be6a-7c225628231c",
   "metadata": {},
   "outputs": [],
   "source": [
    "\"\"\"\n",
    "Measures of Central Tendency:\n",
    "\n",
    "      Mean: The arithmetic average of a dataset. It sums up all values and divides by the number of data points.\n",
    "            The mean provides an overall \"center\" of the data and is sensitive to outliers.\n",
    "      \n",
    "      Median: The middle value when the data is arranged in ascending or descending order. It is not influenced\n",
    "              by extreme values and gives a representative value for central tendency, making it suitable for\n",
    "             skewed distributions.\n",
    "        \n",
    "      Mode: The value that appears most frequently in the dataset. The mode is useful for categorical data or\n",
    "            discrete datasets with repeating values.\n",
    "\"\"\"            "
   ]
  },
  {
   "cell_type": "markdown",
   "id": "fb831d52-c310-4ac4-8069-7bd17998ec96",
   "metadata": {},
   "source": [
    "Q2. What is the difference between the mean, median, and mode? How are they used to measure the\n",
    "central tendency of a dataset?\n"
   ]
  },
  {
   "cell_type": "code",
   "execution_count": null,
   "id": "00d49fc0-e095-4d36-998c-22e3cc211b51",
   "metadata": {},
   "outputs": [],
   "source": [
    "\"\"\" \n",
    "Mean:\n",
    "    Calculation: The mean is calculated by summing up all values in the dataset and then dividing \n",
    "                 by the number of data points.  \n",
    "                 \n",
    "    Sensitivity to Outliers: The mean is sensitive to extreme values, as it takes into account every\n",
    "                            data point. Outliers can significantly impact the mean value.\n",
    "                            \n",
    "    Use: The mean is commonly used when the dataset is approximately normally distributed and does\n",
    "         not have extreme values. It provides a balanced representation of the data's central position.\n",
    "         \n",
    "         \n",
    "         \n",
    "Median:\n",
    "      Calculation: The median is the middle value when the data is arranged in ascending or descending\n",
    "      order. If the dataset has an even number of values, the median is the average of the two middle \n",
    "      values.\n",
    "      \n",
    "      Sensitivity to Outliers: The median is less sensitive to outliers compared to the mean because it\n",
    "                               only considers the positional value of data points, not their actual \n",
    "                               numerical values.\n",
    "                               \n",
    "      Use: The median is particularly useful when dealing with skewed data or datasets with extreme values.\n",
    "           It gives a more robust estimate of central tendency, especially in situations where the mean \n",
    "           could be influenced by outliers.\n",
    "           \n",
    "           \n",
    "           \n",
    "           \n",
    "Mode:\n",
    "    Calculation: The mode is the value that appears most frequently in the dataset.\n",
    "    \n",
    "    Sensitivity to Outliers: The mode is not affected by outliers, as it solely considers the frequency \n",
    "                             of values.\n",
    "                             \n",
    "    Use: The mode is commonly used for categorical data or datasets with repeating values. It is useful\n",
    "         for identifying the most common category or value in the dataset.\n",
    "\"\"\"         "
   ]
  },
  {
   "cell_type": "markdown",
   "id": "3197e5a8-da4a-4e23-b06f-6fea0f66405a",
   "metadata": {},
   "source": [
    "Q3. Measure the three measures of central tendency for the given height data:\n",
    "\n",
    "[178,177,176,177,178.2,178,175,179,180,175,178.9,176.2,177,172.5,178,176.5]\n"
   ]
  },
  {
   "cell_type": "code",
   "execution_count": 11,
   "id": "a95ff9bc-7ff1-472f-8589-fefbf8f67eec",
   "metadata": {},
   "outputs": [
    {
     "name": "stdout",
     "output_type": "stream",
     "text": [
      "mean:  177.01875\n",
      "median:  177.0\n",
      "mode:  178\n"
     ]
    }
   ],
   "source": [
    "import statistics as stats\n",
    "data=[178,177,176,177,178.2,178,175,179,180,175,178.9,176.2,177,172.5,178,176.5]\n",
    "\n",
    "print(\"mean: \",stats.mean(data))\n",
    "print(\"median: \",stats.median(data))\n",
    "print(\"mode: \",stats.mode(data))\n"
   ]
  },
  {
   "cell_type": "markdown",
   "id": "5e4e5cd6-9fe1-4c9f-a44c-b7d17b4bdc0f",
   "metadata": {},
   "source": [
    "Q4. Find the standard deviation for the given data:\n",
    "    \n",
    "[178,177,176,177,178.2,178,175,179,180,175,178.9,176.2,177,172.5,178,176.5]\n"
   ]
  },
  {
   "cell_type": "code",
   "execution_count": 1,
   "id": "a853de9e-b081-4417-97d0-731c14a48f0f",
   "metadata": {},
   "outputs": [
    {
     "name": "stdout",
     "output_type": "stream",
     "text": [
      "Standard Deviation:  1.8472389305844188\n"
     ]
    }
   ],
   "source": [
    "import statistics as stats\n",
    "data=[178,177,176,177,178.2,178,175,179,180,175,178.9,176.2,177,172.5,178,176.5]\n",
    "\n",
    "print(\"Standard Deviation: \",stats.stdev(data))\n"
   ]
  },
  {
   "cell_type": "markdown",
   "id": "5a8eac17-b5be-43c3-952f-e5635fb015fa",
   "metadata": {},
   "source": [
    "Q5. How are measures of dispersion such as range, variance, and standard deviation used to describe\n",
    "the spread of a dataset? Provide an example.\n"
   ]
  },
  {
   "cell_type": "code",
   "execution_count": null,
   "id": "d9aa46d4-6473-4db4-b832-9046737fe2bd",
   "metadata": {},
   "outputs": [],
   "source": [
    "\"\"\"\n",
    "(1)Range:\n",
    "\n",
    "The range is the simplest measure of dispersion and is calculated as the difference between\n",
    "the maximum and minimum values in the dataset. It shows the total extent of the data.\n",
    "\n",
    "Example:\n",
    "\n",
    "Let's consider the following set of exam scores: 75, 82, 68, 90, 78, 85, 72. To calculate \n",
    "the range, we find the difference between the highest and lowest scores:\n",
    "Range = 90 (highest score) - 68 (lowest score) = 22.\n",
    "\n",
    "\n",
    "\n",
    "(2)Variance:\n",
    "\n",
    "Variance is a measure that takes into account the squared deviations of each data point\n",
    "from the mean. It provides an average of how much the data points spread out.\n",
    "\n",
    "Example:\n",
    "\n",
    "Continuing with the exam scores, we find the mean first:\n",
    "\n",
    "Mean = (75 + 82 + 68 + 90 + 78 + 85 + 72) / 7 ≈ 79.14.\n",
    "\n",
    "Next, we calculate the squared deviations from the mean for each data point:\n",
    "\n",
    "(75 - 79.14)^2 ≈ 17.23\n",
    "(82 - 79.14)^2 ≈ 8.19\n",
    "(68 - 79.14)^2 ≈ 12.36\n",
    "(90 - 79.14)^2 ≈ 118.42\n",
    "(78 - 79.14)^2 ≈ 1.32\n",
    "(85 - 79.14)^2 ≈ 34.22\n",
    "(72 - 79.14)^2 ≈ 50.99\n",
    "\n",
    "Now, we find the variance by summing up these squared deviations and dividing by the number\n",
    "of data points (n):\n",
    "\n",
    "Variance = (17.23 + 8.19 + 12.36 + 118.42 + 1.32 + 34.22 + 50.99) / 7 ≈ 34.91.\n",
    "\n",
    "\n",
    "\n",
    "(3)Standard Deviation:\n",
    "\n",
    "The standard deviation is the square root of the variance. It represents the typical or average \n",
    "deviation of data points from the mean and is often used because it has the same unit as the o\n",
    "riginal data.\n",
    "\n",
    "Example:\n",
    "\n",
    "Using the variance calculated above, the standard deviation is:\n",
    "\n",
    "Standard Deviation ≈ √34.91 ≈ 5.91.\n",
    "\n",
    "\n",
    "\n",
    "\n",
    "the standard deviation of the exam scores is approximately 5.91. This indicates that, on average,\n",
    "each score deviates from the mean by about 5.91 points. A larger standard deviation implies greater\n",
    "variability or spread in the dataset, while a smaller standard deviation indicates that the data points\n",
    "are closer to the mean, making the dataset less dispersed.\n",
    "\"\"\""
   ]
  },
  {
   "cell_type": "markdown",
   "id": "e5a5f07b-a2bf-44da-bab9-1bca3ba59e65",
   "metadata": {},
   "source": [
    "Q6. What is a Venn diagram?\n"
   ]
  },
  {
   "cell_type": "code",
   "execution_count": null,
   "id": "796ec337-721e-49ce-bc3b-4bbe6299f14f",
   "metadata": {},
   "outputs": [],
   "source": [
    "\"\"\"\n",
    "A Venn diagram is a graphical representation using overlapping circles or curves to depict the relationships\n",
    "between different sets or groups. Common elements appear in the intersections, while unique elements are \n",
    "shown in non-overlapping sections, providing a visual understanding of similarities and differences between sets.\n",
    "\"\"\""
   ]
  },
  {
   "cell_type": "markdown",
   "id": "97ecf381-3d8f-4fd4-bae8-456bff2e942a",
   "metadata": {},
   "source": [
    "Q7. For the two given sets A = (2,3,4,5,6,7) & B = (0,2,6,8,10). Find:\n",
    "    \n",
    "(i) A ∩ B\n",
    "\n",
    "(ii) A ∪ B\n"
   ]
  },
  {
   "cell_type": "code",
   "execution_count": 4,
   "id": "c78779db-ec0d-4fd8-8512-640f70f852a8",
   "metadata": {},
   "outputs": [
    {
     "name": "stdout",
     "output_type": "stream",
     "text": [
      " A ∩ B :  {2, 6}\n",
      " A ∪ B :  {0, 2, 3, 4, 5, 6, 7, 8, 10}\n"
     ]
    }
   ],
   "source": [
    "A ={2,3,4,5,6,7}\n",
    "B ={0,2,6,8,10}\n",
    "\n",
    "print(\" A ∩ B : \",A.intersection(B))\n",
    "print(\" A ∪ B : \",A.union(B))"
   ]
  },
  {
   "cell_type": "markdown",
   "id": "c353507f-b50b-4c70-b5f5-feb67ea9a970",
   "metadata": {},
   "source": [
    "Q8. What do you understand about skewness in data?\n"
   ]
  },
  {
   "cell_type": "code",
   "execution_count": null,
   "id": "3c597985-7fc1-4a8c-b465-dc6bd0e9b5ac",
   "metadata": {},
   "outputs": [],
   "source": [
    "\"\"\"\n",
    "Skewness in data refers to the asymmetry of its distribution. It indicates the extent to \n",
    "which the data deviates from a symmetrical bell-shaped curve. Positive skewness means the\n",
    "tail is stretched towards the right, and negative skewness indicates a tail stretching \n",
    "towards the left.\n",
    "\"\"\""
   ]
  },
  {
   "cell_type": "markdown",
   "id": "258bf8cd-1f14-4504-a332-951e6633bb9a",
   "metadata": {},
   "source": [
    "Q9. If a data is right skewed then what will be the position of median with respect to mean?\n"
   ]
  },
  {
   "cell_type": "code",
   "execution_count": null,
   "id": "94d689a6-2c02-4811-8d6b-1006070667a0",
   "metadata": {},
   "outputs": [],
   "source": [
    "\"\"\"\n",
    "the position of the median will be to the left of the mean. In a right-skewed distribution, \n",
    "the mean is pulled towards the longer right tail by the extreme values, while the median is \n",
    "less affected by these outliers and tends to be closer to the center of the data.\n",
    "\"\"\""
   ]
  },
  {
   "cell_type": "markdown",
   "id": "5dac0778-0e8b-4276-9c2d-7f574992e709",
   "metadata": {},
   "source": [
    "Q10. Explain the difference between covariance and correlation. How are these measures used in\n",
    "statistical analysis?\n"
   ]
  },
  {
   "cell_type": "code",
   "execution_count": null,
   "id": "a2080890-c23c-48f9-8a8b-a4aedfb4284c",
   "metadata": {},
   "outputs": [],
   "source": [
    "\"\"\"\n",
    "\n",
    "Explanation of the difference between covariance and correlation:\n",
    "\n",
    "Covariance:\n",
    "\n",
    "1- Measures the direction of the relationship between two variables.\n",
    "2- Its value can be positive (both variables increase together), negative \n",
    "   (one variable increases while the other decreases), or zero (no relationship).\n",
    "3- The magnitude of covariance doesn't indicate the strength of the relationship.\n",
    "   \n",
    "\n",
    "Correlation:\n",
    "\n",
    "1- Measures the direction and strength of the linear relationship between two variables.\n",
    "2- Ranges from -1 to +1: -1 indicates a perfect negative linear relationship, +1 indicates\n",
    "   a perfect positive linear relationship, and 0 indicates no linear relationship.\n",
    "3- Allows comparison of relationships between variables with different scales.\n",
    "\n",
    "\n",
    "\n",
    "\n",
    "Usage in statistical analysis:\n",
    "\n",
    "Covariance is primarily used to understand the direction of the relationship between two variables.\n",
    "If the covariance is positive, it indicates that the variables tend to move in the same direction,\n",
    "while a negative covariance suggests an inverse relationship.\n",
    "\n",
    "\n",
    "Correlation is more widely used in statistical analysis because it not only reveals the direction \n",
    "but also quantifies the strength of the relationship between variables. It is particularly valuable \n",
    "when comparing relationships in different datasets with varying scales. Correlation is used in various\n",
    "fields, including economics, finance, social sciences, and many other areas to analyze and interpret\n",
    "data relationships.\n",
    "\"\"\""
   ]
  },
  {
   "cell_type": "markdown",
   "id": "a154b30f-579f-465b-b706-9d8b97fbd4a0",
   "metadata": {},
   "source": [
    "Q11. What is the formula for calculating the sample mean? Provide an example calculation for a\n",
    "dataset.\n"
   ]
  },
  {
   "cell_type": "code",
   "execution_count": null,
   "id": "c99f5488-9215-47e0-aa0b-688700896322",
   "metadata": {},
   "outputs": [],
   "source": [
    "\"\"\"\n",
    "The formula for calculating the sample mean is:\n",
    "\n",
    "Sample Mean = (Sum of all data points) / (Number of data points)\n",
    "\n",
    "\n",
    "\n",
    "Example calculation:\n",
    "\n",
    "Consider a dataset of exam scores: 85, 90, 78, 92, and 88.\n",
    "\n",
    "Step 1: Add up all the values: 85 + 90 + 78 + 92 + 88 = 433\n",
    "\n",
    "Step 2: Count the number of data points: there are 5 data points.\n",
    "\n",
    "Step 3: Calculate the sample mean:\n",
    "        Sample Mean = 433 / 5 = 86.6\n",
    "\n",
    "So, the sample mean for this dataset is 86.6\n",
    "\"\"\""
   ]
  },
  {
   "cell_type": "markdown",
   "id": "9380baf9-8b3e-4ec8-90f9-06bc12def47e",
   "metadata": {},
   "source": [
    "Q12. For a normal distribution data what is the relationship between its measure of central tendency?\n"
   ]
  },
  {
   "cell_type": "code",
   "execution_count": null,
   "id": "2a82ba8a-7c55-4b6e-8b4c-addb4934b385",
   "metadata": {},
   "outputs": [],
   "source": [
    "\"\"\"\n",
    "For a normal distribution, mean = median = mode due to the symmetric nature of the data.\n",
    "All three are equal.\n",
    "\"\"\""
   ]
  },
  {
   "cell_type": "markdown",
   "id": "ff89055e-10b7-4682-b2df-33c83f77136e",
   "metadata": {},
   "source": [
    "Q13. How is covariance different from correlation?\n"
   ]
  },
  {
   "cell_type": "code",
   "execution_count": null,
   "id": "310b9f65-b359-4487-a810-289fcb5ec535",
   "metadata": {},
   "outputs": [],
   "source": [
    "\"\"\"\n",
    "Covariance measures the direction of the relationship between two variables, while \n",
    "correlation also quantifies the strength of their linear relationship, \n",
    "ranging from -1 to +1, making it a standardized measure.\n",
    "\"\"\""
   ]
  },
  {
   "cell_type": "markdown",
   "id": "cdd3bb78-0ab1-4d92-87d9-4613bc054a37",
   "metadata": {},
   "source": [
    "Q14. How do outliers affect measures of central tendency and dispersion? Provide an example."
   ]
  },
  {
   "cell_type": "code",
   "execution_count": null,
   "id": "1c58c747-dd11-46f7-bcc9-fb58109ba9e0",
   "metadata": {},
   "outputs": [],
   "source": [
    "\"\"\"\n",
    "Outliers can skew the mean and widen the range, standard deviation, and variance, \n",
    "but they have little impact on the median and mode.\n",
    "\n",
    "Example: Dataset: 10, 15, 12, 14, 11, 100 (outlier)\n",
    "\n",
    "Mean: 26.8333 (significantly affected by the outlier)\n",
    "Median: 13 (unaffected by the outlier)\n",
    "Mode: No mode (unaffected by the outlier)\n",
    "Range: 90 (widened by the outlier)\n",
    "Standard Deviation/Variance: Higher values due to outlier.\n",
    "\"\"\"\n",
    "\n",
    "\n"
   ]
  }
 ],
 "metadata": {
  "kernelspec": {
   "display_name": "Python 3 (ipykernel)",
   "language": "python",
   "name": "python3"
  },
  "language_info": {
   "codemirror_mode": {
    "name": "ipython",
    "version": 3
   },
   "file_extension": ".py",
   "mimetype": "text/x-python",
   "name": "python",
   "nbconvert_exporter": "python",
   "pygments_lexer": "ipython3",
   "version": "3.10.8"
  }
 },
 "nbformat": 4,
 "nbformat_minor": 5
}
