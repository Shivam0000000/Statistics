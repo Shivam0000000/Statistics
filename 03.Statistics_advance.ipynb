{
 "cells": [
  {
   "cell_type": "markdown",
   "id": "6dfd6513-39d5-4bca-ad1c-0e917c432ddd",
   "metadata": {},
   "source": [
    "Q1. What is the Probability density function?\n"
   ]
  },
  {
   "cell_type": "code",
   "execution_count": null,
   "id": "fa42f386-9a09-4534-904b-d070b8f6911c",
   "metadata": {},
   "outputs": [],
   "source": [
    "\"\"\"\n",
    "The Probability Density Function (PDF) is a statistical concept used in probability\n",
    "theory to describe the likelihood of a continuous random variable taking on a specific \n",
    "value, represented as a curve where the area under it denotes the probability.\n",
    "\"\"\""
   ]
  },
  {
   "cell_type": "markdown",
   "id": "38500c3b-f361-465c-81e2-805610293f79",
   "metadata": {},
   "source": [
    "Q2. What are the types of Probability distribution?\n"
   ]
  },
  {
   "cell_type": "code",
   "execution_count": null,
   "id": "b252066d-4449-47a4-8359-c4c9dc1f9367",
   "metadata": {},
   "outputs": [],
   "source": [
    "\"\"\"\n",
    "1-Normal Distribution (Gaussian Distribution): Symmetric, bell-shaped curve, commonly found in nature.\n",
    "2-Binomial Distribution: Discrete, used for two possible outcomes with fixed probability.\n",
    "3-Poisson Distribution: Discrete, models rare events occurring independently over time or space.\n",
    "4-Exponential Distribution: Continuous, models time between events in a Poisson process.\n",
    "5-Uniform Distribution: Continuous, constant probability over a defined range.\n",
    "6-Chi-Square Distribution: Continuous, used in hypothesis testing and confidence intervals.\n",
    "7-Student's t-Distribution: Continuous, for small sample sizes in statistical inference.\n",
    "8-F-Distribution: Continuous, used in statistical tests of variance and regression.\n",
    "\"\"\""
   ]
  },
  {
   "cell_type": "markdown",
   "id": "4ed0f3cc-b6a3-4b7b-b77f-634d97370cb4",
   "metadata": {},
   "source": [
    "Q3. Write a Python function to calculate the probability density function of a normal distribution with\n",
    "given mean and standard deviation at a given point.\n"
   ]
  },
  {
   "cell_type": "code",
   "execution_count": 21,
   "id": "80f32853-5b36-4d4d-aae0-3a3628cd0556",
   "metadata": {},
   "outputs": [
    {
     "name": "stdout",
     "output_type": "stream",
     "text": [
      "PDF at x = 1.5 : 0.12951759566589174\n"
     ]
    }
   ],
   "source": [
    "from scipy.stats import norm\n",
    "\n",
    "mean =0\n",
    "std_dev = 1\n",
    "point =1.5\n",
    "pdf_at_point =norm.pdf(point, mean, std_dev)\n",
    "print(\"PDF at x =\", point, \":\", pdf_at_point)"
   ]
  },
  {
   "cell_type": "markdown",
   "id": "eb50b0ca-7b41-4067-b0cf-76dcc633f338",
   "metadata": {},
   "source": [
    "Q4. What are the properties of Binomial distribution? Give two examples of events where binomial\n",
    "distribution can be applied.\n"
   ]
  },
  {
   "cell_type": "code",
   "execution_count": null,
   "id": "9e6c279a-7a00-4cf9-bde5-bd4283da18a2",
   "metadata": {},
   "outputs": [],
   "source": [
    "\"\"\"\n",
    "The properties of the Binomial distribution are:\n",
    "\n",
    "1-Discreteness: It deals with a finite number of possible outcomes.\n",
    "2-Fixed number of trials: The number of trials is predetermined and remains constant.\n",
    "3-Independent trials: Each trial is independent of the others.\n",
    "4-Constant probability of success: The probability of success on each trial remains the same.\n",
    "5-Two possible outcomes: Each trial can have only two outcomes: success or failure.\n",
    "\n",
    "\n",
    "\n",
    "Two examples of events where the Binomial distribution can be applied are:\n",
    "\n",
    "1-Coin Toss: Calculating the probability of getting a specific number of heads in a fixed \n",
    "           number of coin flips.\n",
    "\n",
    "2-Quality Control: Determining the likelihood of finding a certain number of defective items \n",
    "                 in a fixed-size sample from a production batch with a known defect rate.\n",
    "\n",
    "\n",
    "\"\"\"\n",
    "\n"
   ]
  },
  {
   "cell_type": "markdown",
   "id": "5a5c5203-024f-488c-91b1-6bbd27767fa0",
   "metadata": {},
   "source": [
    "Q5. Generate a random sample of size 1000 from a binomial distribution with probability of success 0.4\n",
    "and plot a histogram of the results using matplotlib.\n"
   ]
  },
  {
   "cell_type": "code",
   "execution_count": 6,
   "id": "9c77784e-b4e1-4577-882f-2bb2f888c718",
   "metadata": {},
   "outputs": [
    {
     "data": {
      "image/png": "[encoded data removed]",
      "text/plain": [
       "<Figure size 640x480 with 1 Axes>"
      ]
     },
     "metadata": {},
     "output_type": "display_data"
    }
   ],
   "source": [
    "import numpy as np\n",
    "import matplotlib.pyplot as plt\n",
    "\n",
    "sample_size=1000\n",
    "success_rate=.4\n",
    "random_sample=np.random.binomial(1,success_rate,sample_size)\n",
    "\n",
    "plt.hist(random_sample)\n",
    "plt.show()"
   ]
  },
  {
   "cell_type": "markdown",
   "id": "3c7e8b02-8330-4b9c-b6f7-18f306686afd",
   "metadata": {},
   "source": [
    "Q6. Write a Python function to calculate the cumulative distribution function of a Poisson distribution\n",
    "with given mean at a given point.\n"
   ]
  },
  {
   "cell_type": "code",
   "execution_count": 2,
   "id": "b6f065bc-7b80-4d03-be38-2a53a41a5545",
   "metadata": {},
   "outputs": [
    {
     "name": "stdout",
     "output_type": "stream",
     "text": [
      "0.9934236946744786\n"
     ]
    }
   ],
   "source": [
    "from scipy.stats import poisson\n",
    "mean=56\n",
    "point=40\n",
    "print(poisson.cdf(mean,point))\n"
   ]
  },
  {
   "cell_type": "markdown",
   "id": "e74c5e7c-1a77-4996-99c4-1e6e085adc7a",
   "metadata": {},
   "source": [
    "Q7. How Binomial distribution different from Poisson distribution?\n"
   ]
  },
  {
   "cell_type": "code",
   "execution_count": null,
   "id": "42b87a2a-c2a4-4a28-976f-f24edfcdef7e",
   "metadata": {},
   "outputs": [],
   "source": [
    "\"\"\"\n",
    "The main differences between the Binomial and Poisson distributions are:\n",
    "\n",
    "\n",
    "Binomial: Independent trials with two possible outcomes (success or failure).\n",
    "Poisson: Rare events occurring independently in a fixed interval of time or space.\n",
    "\n",
    "Binomial: Fixed number of trials or occurrences.\n",
    "Poisson: Variable or unknown number of occurrences within a fixed interval.\n",
    "\n",
    "Binomial: Two parameters: number of trials 'n' and probability of success 'p'.\n",
    "Poisson: One parameter: average rate of occurrence 'λ' (lambda).\n",
    "\n",
    "Binomial: Discrete distribution with finite possible outcomes.\n",
    "Poisson: Discrete distribution, but can approximate continuous distributions for \n",
    "         low event rates and large intervals.\n",
    "\"\"\"         "
   ]
  },
  {
   "cell_type": "markdown",
   "id": "5bf5462b-4b35-4ed2-9bb5-69a69cad7c89",
   "metadata": {},
   "source": [
    "Q8. Generate a random sample of size 1000 from a Poisson distribution with mean 5 and calculate the\n",
    "sample mean and variance.\n"
   ]
  },
  {
   "cell_type": "code",
   "execution_count": 20,
   "id": "c733c951-5f37-4c58-9860-43ee95303a57",
   "metadata": {},
   "outputs": [
    {
     "name": "stdout",
     "output_type": "stream",
     "text": [
      "Sample mean: 4.993\n",
      "Sample variance: 4.386951\n"
     ]
    },
    {
     "data": {
      "text/plain": [
       "1000.0"
      ]
     },
     "execution_count": 20,
     "metadata": {},
     "output_type": "execute_result"
    }
   ],
   "source": [
    "import numpy as np\n",
    "\n",
    "mean = 5\n",
    "sample_size = 1000\n",
    "\n",
    "random_sample = np.random.poisson(mean, sample_size)\n",
    "\n",
    "sample_mean = np.mean(random_sample)\n",
    "sample_variance = np.var(random_sample)\n",
    "\n",
    "print(\"Sample mean:\", sample_mean)\n",
    "print(\"Sample variance:\", sample_variance)"
   ]
  },
  {
   "cell_type": "markdown",
   "id": "b398b780-19bb-47ac-8db4-0c891365986e",
   "metadata": {},
   "source": [
    "Q9. How mean and variance are related in Binomial distribution and Poisson distribution?\n"
   ]
  },
  {
   "cell_type": "code",
   "execution_count": null,
   "id": "cccd6391-0559-4c5d-8d1a-be8b2826b17d",
   "metadata": {},
   "outputs": [],
   "source": [
    "\"\"\"\n",
    "In both the Binomial and Poisson distributions:\n",
    "\n",
    "Mean (μ) = Variance (σ^2)\n",
    "\n",
    "For the Binomial distribution:\n",
    "Mean (μ) = n * p\n",
    "Variance (σ^2) = n * p * (1 - p)\n",
    "\n",
    "For the Poisson distribution:\n",
    "Mean (μ) = λ\n",
    "Variance (σ^2) = λ\n",
    "\n",
    "\n",
    "In Binomial and Poisson distributions, the mean (μ) and variance (σ^2) are equal\n",
    "to the product of the number of trials or intervals (n for Binomial and λ for Poisson) and\n",
    "the probability of success (p for Binomial) or the average rate of events (λ for Poisson).\n",
    "However, in the Binomial distribution, the variance depends on the probability of success (p)\n",
    "and is generally larger when the probability of success is closer to 0.5. On the other hand, \n",
    "the Poisson distribution has a constant variance equal to its mean (λ), which is a characteristic\n",
    "feature of Poisson processes.\n",
    "\"\"\""
   ]
  },
  {
   "cell_type": "markdown",
   "id": "010b798e-0917-4ca6-b791-bc127cc98206",
   "metadata": {},
   "source": [
    "Q10. In normal distribution with respect to mean position, where does the least frequent data appear?"
   ]
  },
  {
   "cell_type": "code",
   "execution_count": null,
   "id": "3d4999fa-4af9-4f5b-a131-95dfd11f09e0",
   "metadata": {},
   "outputs": [],
   "source": [
    "\"\"\"\n",
    "In a normal distribution, the least frequent data appears in the tails, which are located\n",
    "farthest away from the mean. The majority of data points are concentrated around the mean,\n",
    "and the number of data points gradually decreases as you move towards the tails of the distribution.\n",
    "\"\"\""
   ]
  }
 ],
 "metadata": {
  "kernelspec": {
   "display_name": "Python 3 (ipykernel)",
   "language": "python",
   "name": "python3"
  },
  "language_info": {
   "codemirror_mode": {
    "name": "ipython",
    "version": 3
   },
   "file_extension": ".py",
   "mimetype": "text/x-python",
   "name": "python",
   "nbconvert_exporter": "python",
   "pygments_lexer": "ipython3",
   "version": "3.10.8"
  }
 },
 "nbformat": 4,
 "nbformat_minor": 5
}
