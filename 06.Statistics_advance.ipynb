{
 "cells": [
  {
   "cell_type": "markdown",
   "id": "eb0794e0-7320-45c2-a0b8-0f2aceb5a77f",
   "metadata": {},
   "source": [
    "Q1: What is the difference between a t-test and a z-test? Provide an example scenario where you would\n",
    "use each type of test.\n"
   ]
  },
  {
   "cell_type": "code",
   "execution_count": null,
   "id": "84995155-c996-4845-b2cd-d43a6379954b",
   "metadata": {},
   "outputs": [],
   "source": [
    "\"\"\"\n",
    "The main difference between a t-test and a z-test lies in the population standard deviation. \n",
    "A z-test is used when the population standard deviation is known or when the sample size is \n",
    "large (typically greater than 30), while a t-test is used when the population standard deviation \n",
    "is unknown or when the sample size is small (typically less than 30).\n",
    "\n",
    "\n",
    "\n",
    "Example:\n",
    "\n",
    "Z-test:\n",
    "Let's say a company claims that the average weight of their cereal boxes is 500 grams, and the \n",
    "population standard deviation for the weight is 10 grams. To test this claim, you take a random \n",
    "sample of 100 cereal boxes and find that the sample mean weight is 498 grams. In this case, you \n",
    "can use a z-test since you know the population standard deviation and the sample size is relatively\n",
    "large.\n",
    "\n",
    "T-test:\n",
    "Suppose a researcher wants to test whether a new teaching method improves test scores for a specific\n",
    "subject. The researcher randomly selects 25 students and applies the new teaching method to them. \n",
    "Afterward, the students take a test, and the average score is calculated. The population standard \n",
    "deviation of test scores is unknown. In this situation, you would use a t-test because the sample \n",
    "size is small, and the population standard deviation is not known.\n",
    "\"\"\""
   ]
  },
  {
   "cell_type": "markdown",
   "id": "8a5b3a22-fd01-4ff0-837e-99ee9dec5f7b",
   "metadata": {},
   "source": [
    "Q2: Differentiate between one-tailed and two-tailed tests.\n"
   ]
  },
  {
   "cell_type": "code",
   "execution_count": null,
   "id": "93001470-76df-42de-b40c-81af2db31480",
   "metadata": {},
   "outputs": [],
   "source": [
    "\"\"\"\n",
    "The main difference between one-tailed and two-tailed tests lies in the direction of the statistical \n",
    "hypothesis being tested and the corresponding critical region for rejecting the null hypothesis.\n",
    "\n",
    "\n",
    "\n",
    "One-tailed test:\n",
    "In a one-tailed test, the statistical hypothesis is formulated to test a specific direction of the \n",
    "effect or difference. The critical region for rejecting the null hypothesis is located on only one \n",
    "side of the distribution (either the right or the left, depending on the direction of interest).\n",
    "One-tailed tests are used when you have a specific hypothesis about the direction of the effect \n",
    "and want to determine if the data supports that specific direction.\n",
    "\n",
    "Example: Testing whether a new drug decreases blood pressure (one-tailed, direction-specific).\n",
    "\n",
    "\n",
    "Two-tailed test:\n",
    "In a two-tailed test, the statistical hypothesis is formulated to test for any significant difference,\n",
    "regardless of the direction. The critical region for rejecting the null hypothesis is split between \n",
    "both tails of the distribution. Two-tailed tests are used when you are interested in determining if \n",
    "there is any significant difference, but you do not have a specific hypothesis about the direction of \n",
    "the effect.\n",
    "\n",
    "Example: Testing whether a coin is fair (two-tailed, any significant difference in both directions).\n",
    "\"\"\""
   ]
  },
  {
   "cell_type": "markdown",
   "id": "582f0146-c02b-49f9-b568-49690c08b8e4",
   "metadata": {},
   "source": [
    "Q3: Explain the concept of Type 1 and Type 2 errors in hypothesis testing. Provide an example scenario for\n",
    "each type of error.\n"
   ]
  },
  {
   "cell_type": "code",
   "execution_count": null,
   "id": "f9121818-64a8-49ba-966e-0b4e59c838ee",
   "metadata": {},
   "outputs": [],
   "source": [
    "\"\"\"\n",
    "In hypothesis testing, Type 1 and Type 2 errors are two types of mistakes that can occur when making \n",
    "a decision about the null hypothesis.\n",
    "\n",
    "\n",
    "\n",
    "\n",
    "Type 1 error (False Positive):\n",
    "\n",
    "A Type 1 error occurs when we reject the null hypothesis when it is actually true. In other words, \n",
    "we incorrectly conclude that there is a significant effect or difference when there is none in the \n",
    "population. The probability of making a Type 1 error is denoted by α (alpha) and is also known as \n",
    "the significance level.\n",
    "\n",
    "Example scenario: A medical test claims to detect a certain disease with 99% accuracy. However, in \n",
    "reality, a person does not have the disease. If the test incorrectly indicates that the person has \n",
    "the disease (false positive), it is a Type 1 error.\n",
    "\n",
    "\n",
    "\n",
    "\n",
    "\n",
    "Type 2 error (False Negative):\n",
    "\n",
    "A Type 2 error occurs when we fail to reject the null hypothesis when it is actually false. In other words,\n",
    "we miss a significant effect or difference that exists in the population. The probability of making a \n",
    "Type 2 error is denoted by β (beta).\n",
    "\n",
    "Example scenario: A company claims that their new product increases customer satisfaction by at least 20%.\n",
    "However, the product actually does increase satisfaction by 25%. If a study fails to find a significant increase\n",
    "(false negative) and accepts that the product has no effect, it is a Type 2 error.\n",
    "\"\"\""
   ]
  },
  {
   "cell_type": "markdown",
   "id": "c9d275c4-34ba-4aab-a3f1-f192a4a031e7",
   "metadata": {},
   "source": [
    "Q4: Explain Bayes's theorem with an example.\n"
   ]
  },
  {
   "cell_type": "code",
   "execution_count": null,
   "id": "8fe2ed5b-a8f1-47f1-8ecd-875cc4a23cb7",
   "metadata": {},
   "outputs": [],
   "source": [
    "\"\"\"\n",
    "Bayes's theorem is a fundamental concept in probability theory that allows us to update the probability \n",
    "of an event based on new evidence or information. It helps us revise our beliefs or initial probabilities \n",
    "in light of new data.\n",
    "\n",
    "\n",
    "The formula for Bayes's theorem is:\n",
    "\n",
    "P(A|B) = (P(B|A) * P(A)) / P(B)\n",
    "\n",
    "Where:\n",
    "P(A|B) is the probability of event A occurring given that event B has occurred.\n",
    "P(B|A) is the probability of event B occurring given that event A has occurred.\n",
    "P(A) is the prior probability of event A (i.e., the initial belief in the absence of evidence).\n",
    "P(B) is the prior probability of event B (i.e., the initial belief in the absence of evidence).\n",
    "\n",
    "\n",
    "\n",
    "Example:\n",
    "\n",
    "Let's say we have a certain medical condition X that affects 1% of the population (P(A) = 0.01). We also \n",
    "have a diagnostic test for condition X, which correctly identifies the condition in 95% of cases where\n",
    "it is present (P(B|A) = 0.95). However, the test also produces false positives in 3% of cases where the\n",
    "condition is not present (P(B|not A) = 0.03).\n",
    "\n",
    "Now, let's use Bayes's theorem to calculate the probability that a person has condition X (A) given that\n",
    "the test result is positive (B).\n",
    "\n",
    "We want to find P(A|B).\n",
    "\n",
    "P(A|B) = (P(B|A) * P(A)) / P(B)\n",
    "P(A|B) = (0.95 * 0.01) / (P(B|A) * P(A) + P(B|not A) * P(not A))\n",
    "P(A|B) = (0.95 * 0.01) / (0.95 * 0.01 + 0.03 * 0.99)\n",
    "P(A|B) = 0.0095 / (0.0095 + 0.0297)\n",
    "P(A|B) ≈ 0.242\n",
    "\n",
    "The result shows that the probability of having condition X given a positive test result is approximately \n",
    "0.242 or 24.2%. This means that even with a positive test result, there's still about a 75.8% chance that \n",
    "the person does not have the medical condition. The prior probability of the condition (1%) was updated \n",
    "based on the test's performance to arrive at this revised probability using Bayes's theorem.\n",
    "\"\"\""
   ]
  },
  {
   "cell_type": "markdown",
   "id": "a61f14d6-1943-4a80-91a0-5aaaafc44fe1",
   "metadata": {},
   "source": [
    "Q5: What is a confidence interval? How to calculate the confidence interval, explain with an example.\n"
   ]
  },
  {
   "cell_type": "code",
   "execution_count": null,
   "id": "3b6d79ca-4767-4cbc-b921-611ae3000ca2",
   "metadata": {},
   "outputs": [],
   "source": [
    "\"\"\"\n",
    "A confidence interval is a range of values within which we believe the true population parameter \n",
    "(such as the mean or proportion) lies with a certain level of confidence. It provides a measure \n",
    "of the uncertainty associated with estimating the parameter from a sample.\n",
    "\n",
    "\n",
    "\n",
    "To calculate a confidence interval, follow these steps:\n",
    "\n",
    "1-Choose a confidence level (e.g., 95%, 99%) that represents your desired level of confidence.\n",
    "2-Collect a sample and compute the sample statistic (e.g., mean or proportion).\n",
    "3-Determine the standard error of the sample statistic. For the mean, it is the sample standard \n",
    "  deviation divided by the square root of the sample size. For proportions, it is the square root \n",
    "  of (p * (1-p) / n), where p is the sample proportion and n is the sample size.\n",
    "4-Find the critical value corresponding to the chosen confidence level. This value comes from the \n",
    "  standard normal (Z) distribution table or the t-distribution table, depending on the sample size \n",
    "  and whether the population standard deviation is known.\n",
    "\n",
    "\n",
    "\n",
    "Calculate the confidence interval using the formula:\n",
    "Confidence Interval = Sample Statistic ± (Critical Value * Standard Error)\n",
    "\n",
    "\n",
    "\n",
    "Example:\n",
    "\n",
    "Suppose we want to estimate the average height of students in a school. We take a random sample of 100\n",
    "students and find the sample mean height to be 165 cm, with a sample standard deviation of 5 cm.\n",
    "We want a 95% confidence interval.\n",
    "\n",
    "Confidence level = 95% (α = 0.05)\n",
    "Sample mean = 165 cm\n",
    "Standard error = 5 cm / √100 = 0.5 cm\n",
    "\n",
    "For a 95% confidence level and a sample size of 100, the critical value is approximately 1.96 \n",
    "(from the standard normal distribution table).\n",
    "\n",
    "Confidence Interval = 165 ± (1.96 * 0.5) = 165 ± 0.98\n",
    "\n",
    "The 95% confidence interval for the average height of students is (164.02 cm, 165.98 cm). We can\n",
    "say with 95% confidence that the true average height of all students in the school lies within this range.\n",
    "\"\"\""
   ]
  },
  {
   "cell_type": "markdown",
   "id": "662806c1-2d7c-465c-9271-5333579faf7a",
   "metadata": {},
   "source": [
    "Q6. Use Bayes' Theorem to calculate the probability of an event occurring given prior knowledge of the\n",
    "event's probability and new evidence. Provide a sample problem and solution.\n"
   ]
  },
  {
   "cell_type": "code",
   "execution_count": 2,
   "id": "0d7b907b-bd11-43e4-a892-67cb7b9cd6a3",
   "metadata": {},
   "outputs": [
    {
     "name": "stdout",
     "output_type": "stream",
     "text": [
      "So the probability someone has cancer given they are a coffee drinker is only  0.0065 %\n"
     ]
    }
   ],
   "source": [
    "\"\"\"\n",
    "the percentage of people diagnosed with cancer (0.5% according to cancer.gov) and the percentage \n",
    "of people who drink coffee (65% according to statista.com) and New Study Reveals 85% of Cancer \n",
    "Patients Drink Coffee\n",
    "\"\"\"\n",
    "\n",
    "#Calculating probability someone has cancer given they are a coffee drinker is only \n",
    "p_coffee_drinker = .65\n",
    "p_cancer = .005\n",
    "p_coffee_drinker_given_cancer = .85\n",
    "\n",
    "\n",
    "p_cancer_given_coffee_drinker =(p_coffee_drinker_given_cancer *p_cancer )/ p_coffee_drinker\n",
    "    \n",
    "    \n",
    "print(\"So the probability someone has cancer given they are a coffee drinker is only \",round(p_cancer_given_coffee_drinker,4),\"%\")"
   ]
  },
  {
   "cell_type": "markdown",
   "id": "204158f8-a33a-488d-b180-47f8fc7bc498",
   "metadata": {},
   "source": [
    "Q7. Calculate the 95% confidence interval for a sample of data with a mean of 50 and a standard deviation\n",
    "of 5. Interpret the results.\n"
   ]
  },
  {
   "cell_type": "code",
   "execution_count": 3,
   "id": "43a4a4a4-22d8-4290-afc5-442759a8814b",
   "metadata": {},
   "outputs": [
    {
     "name": "stdout",
     "output_type": "stream",
     "text": [
      "0.95\n",
      "I am 95% confident that population mean lie between  48.21077297881646  and  51.78922702118354\n"
     ]
    }
   ],
   "source": [
    "# Import library\n",
    "import math\n",
    "\n",
    "# Function defination\n",
    "def Calculate_intervals(z_value,sample_std,sample_size):\n",
    "    margin_of_error=(z_value)*(sample_std/math.sqrt(sample_size))\n",
    "    lower_CI=sample_mean-margin_of_error\n",
    "    upper_CI=sample_mean+margin_of_error\n",
    "    return lower_CI,upper_CI\n",
    "\n",
    "# Sample information\n",
    "sample_mean=50\n",
    "sample_std=5\n",
    "sample_size=30\n",
    "confidence_interval=.95\n",
    "z_value=1.96\n",
    "\n",
    "# Function Call\n",
    "lower_CI,upper_CI=Calculate_intervals(z_value,sample_std,sample_size)\n",
    "\n",
    "# Result\n",
    "print(\"I am 95% confident that population mean lie between \",lower_CI,\" and \",upper_CI)"
   ]
  },
  {
   "cell_type": "markdown",
   "id": "f9d4edd0-3e1d-49a9-a1e2-73dfe6b85026",
   "metadata": {},
   "source": [
    "Q8. What is the margin of error in a confidence interval? How does sample size affect the margin of error?\n",
    "Provide an example of a scenario where a larger sample size would result in a smaller margin of error.\n"
   ]
  },
  {
   "cell_type": "code",
   "execution_count": null,
   "id": "061c26e0-75a8-40a6-8d8d-4aacd18c8854",
   "metadata": {},
   "outputs": [],
   "source": [
    "\"\"\"\n",
    "The margin of error (MOE) in a confidence interval measures the range within which the \n",
    "true population parameter is likely to lie based on a sample. It quantifies the uncertainty \n",
    "in our estimate.\n",
    "\n",
    "Sample size and margin of error are inversely related. A larger sample size leads to a smaller\n",
    "margin of error, resulting in a more precise estimate.\n",
    "\n",
    "Example: Suppose you're estimating the average height of students in a school. With a small sample\n",
    "(e.g., 20 students), the MOE might be 3 cm. However, with a larger sample (e.g., 200 students), \n",
    "the MOE could decrease to 1 cm. This means you're more confident that the true average height is \n",
    "closer to your sample estimate when using a larger sample size.\n",
    "\"\"\""
   ]
  },
  {
   "cell_type": "markdown",
   "id": "f01217a6-810d-4c77-9e30-ef8494d87888",
   "metadata": {},
   "source": [
    "Q9. Calculate the z-score for a data point with a value of 75, a population mean of 70, and a population\n",
    "standard deviation of 5. Interpret the results.\n"
   ]
  },
  {
   "cell_type": "code",
   "execution_count": 5,
   "id": "43a5f0be-8aaa-4d60-ad06-9a0ca59b3b7c",
   "metadata": {},
   "outputs": [
    {
     "name": "stdout",
     "output_type": "stream",
     "text": [
      "Interpret: 1.0\n"
     ]
    }
   ],
   "source": [
    "# Function Defination\n",
    "def z_score(point,mean,std):\n",
    "    \n",
    "    return (point-mean)/std\n",
    "\n",
    "# Information\n",
    "point=75\n",
    "mean=70\n",
    "std=5\n",
    "\n",
    "# Result\n",
    "print(\"Interpret:\",z_score(point,mean,std))"
   ]
  },
  {
   "cell_type": "markdown",
   "id": "40f64349-928f-4035-8a4a-c97cc9a3e9e6",
   "metadata": {},
   "source": [
    "Q10. In a study of the effectiveness of a new weight loss drug, a sample of 50 participants lost an average\n",
    "of 6 pounds with a standard deviation of 2.5 pounds. Conduct a hypothesis test to determine if the drug is\n",
    "significantly effective at a 95% confidence level using a t-test.\n"
   ]
  },
  {
   "cell_type": "code",
   "execution_count": 2,
   "id": "d784253b-2d3e-4064-95c1-7ec1a6248d62",
   "metadata": {},
   "outputs": [
    {
     "name": "stdout",
     "output_type": "stream",
     "text": [
      "t-value:  -1.67\n",
      "t-test:  0.5656854249492386\n",
      "\n",
      "Null Hypothesis True: The new weight loss drug is not significantly effective.\n"
     ]
    }
   ],
   "source": [
    "# Import Library\n",
    "import math\n",
    "\n",
    "\"\"\"\n",
    "Null Hypothesis (H0): The new weight loss drug is not significantly effective.\n",
    "\n",
    "Alternative Hypothesis (Ha): The new weight loss drug is significantly effective.\n",
    "\"\"\"\n",
    "\n",
    "# Details\n",
    "sample_size=50\n",
    "sample_mean=6\n",
    "sample_std=2.5\n",
    "t_value=-1.67\n",
    "\n",
    "\n",
    "# Now we take any value for Population mean\n",
    "population_mean=5.8\n",
    "\n",
    "\n",
    "# Perform One Tailed T-test\n",
    "t_test=(sample_mean-population_mean)/(sample_std/math.sqrt(sample_size))\n",
    "\n",
    "print(\"t-value: \",t_value)\n",
    "print(\"t-test: \",t_test) # 0.5656854249492386\n",
    "print()\n",
    "\n",
    "\n",
    "# Make Decision Whether Null Hypothesis True or Alternative Hypothesis True\n",
    "if t_test>t_value:\n",
    "    print(\"Null Hypothesis True: The new weight loss drug is not significantly effective.\")\n",
    "else:\n",
    "    print(\"Alternative Hypothesis True: The new weight loss drug is significantly effective.\")"
   ]
  },
  {
   "cell_type": "markdown",
   "id": "5cdee16c-aee1-4f24-95b5-fa09d018b996",
   "metadata": {},
   "source": [
    "Q11. In a survey of 500 people, 65% reported being satisfied with their current job. Calculate the 95%\n",
    "confidence interval for the true proportion of people who are satisfied with their job.\n"
   ]
  },
  {
   "cell_type": "code",
   "execution_count": 3,
   "id": "aa209f7d-440b-4db3-b341-851b5b6b9cc6",
   "metadata": {},
   "outputs": [
    {
     "name": "stdout",
     "output_type": "stream",
     "text": [
      "I am 95% confident for the true proportion of people who are satisfied with their job lie between  60.8191771144905  and  69.18082288550951\n"
     ]
    }
   ],
   "source": [
    "# import library\n",
    "import math\n",
    "\n",
    "#Detaild\n",
    "sample_size=500\n",
    "sample_proportion=0.65\n",
    "z_value=1.96\n",
    "\n",
    "# Estimate Confidence Interval\n",
    "margin_of_error=(z_value)*math.sqrt((sample_proportion * (1-sample_proportion)/(sample_size)))\n",
    "lower_CI=sample_proportion-margin_of_error\n",
    "upper_CI=sample_proportion+margin_of_error\n",
    "\n",
    "\n",
    "# 60.8191771144905  and  69.18082288550951\n",
    "print(\"I am 95% confident for the people who are satisfied with their job lie between \",lower_CI*100,\" and \",upper_CI*100)"
   ]
  },
  {
   "cell_type": "markdown",
   "id": "08f02f92-0b7b-4140-ab78-438ed558f85b",
   "metadata": {},
   "source": [
    "Q12. A researcher is testing the effectiveness of two different teaching methods on student performance.\n",
    "Sample A has a mean score of 85 with a standard deviation of 6, while sample B has a mean score of 82\n",
    "with a standard deviation of 5. Conduct a hypothesis test to determine if the two teaching methods have a\n",
    "significant difference in student performance using a t-test with a significance level of 0.01.\n"
   ]
  },
  {
   "cell_type": "code",
   "execution_count": 5,
   "id": "fd31b39d-586b-4d06-812a-a38bcdfbe235",
   "metadata": {},
   "outputs": [
    {
     "name": "stdout",
     "output_type": "stream",
     "text": [
      "t-value: ± 2.704\n",
      "t-test:  1.8973665961010275\n",
      "\n",
      "The population means are equal.\n"
     ]
    }
   ],
   "source": [
    "# import library\n",
    "import math\n",
    "\n",
    "# Sample A Details\n",
    "sample_size_1=20\n",
    "mean_1=85\n",
    "std1=6\n",
    "\n",
    "\n",
    "# Sample B Details\n",
    "sample_size_2=20\n",
    "mean_2=82\n",
    "std1=5\n",
    "\n",
    "\n",
    "# Perform T test For Two  Samples\n",
    "sp =math.sqrt(((sample_size_1-1)*std1**2 + (sample_size_2 - 1)*std1**2)/(sample_size_1 + sample_size_2 - 2))\n",
    "nume=mean_1-mean_2\n",
    "deno=(1/sample_size_1)+(1/sample_size_2)\n",
    "t_test=nume/(sp*math.sqrt(deno))\n",
    "\n",
    "\n",
    "# Other Details\n",
    "significance_level=0.05\n",
    "df=38\n",
    "t_value=2.704\n",
    "alpha=0.01\n",
    "\n",
    "\n",
    "# Print T table and T test Values\n",
    "print(\"t-value: ±\",t_value)\n",
    "print(\"t-test: \",t_test)\n",
    "print()\n",
    "\n",
    "\n",
    "# Check Populations Are equal or not\n",
    "if t_test<t_value and t_test>-t_value:\n",
    "    print(\"The population means are equal.\")\n",
    "    \n",
    "else:\n",
    "    print(\"The population means are not equal.\")\n"
   ]
  },
  {
   "cell_type": "markdown",
   "id": "84eae32d-f830-4a06-aab1-401ab5a724e0",
   "metadata": {},
   "source": [
    "Q13. A population has a mean of 60 and a standard deviation of 8. A sample of 50 observations has a mean\n",
    "of 65. Calculate the 90% confidence interval for the true population mean.\n"
   ]
  },
  {
   "cell_type": "code",
   "execution_count": 8,
   "id": "4947e7ae-a9ff-4cf0-a67c-1287eb392647",
   "metadata": {},
   "outputs": [
    {
     "name": "stdout",
     "output_type": "stream",
     "text": [
      "I am 90% confident that population mean lie between  63.1445518061665  and  66.8554481938335\n"
     ]
    }
   ],
   "source": [
    "# import Library\n",
    "import math\n",
    "\n",
    "# Function defination\n",
    "def Confidence_intervals(z_value,population_std,sample_size):\n",
    "    margin_of_error=(z_value)*(population_std/math.sqrt(sample_size))\n",
    "    lower_CI=sample_mean-margin_of_error\n",
    "    upper_CI=sample_mean+margin_of_error\n",
    "    return lower_CI,upper_CI\n",
    "\n",
    "\n",
    "# Details\n",
    "population_mean=60\n",
    "population_std=8\n",
    "sample_size=50\n",
    "sample_mean=65\n",
    "z_value= 1.64\n",
    "\n",
    "lower_CI,upper_CI=Confidence_intervals(z_value,population_std,sample_size)\n",
    "\n",
    "# 63.1445518061665  and  66.8554481938335\n",
    "print(\"I am 90% confident that population mean lie between \",lower_CI,\" and \",upper_CI)"
   ]
  },
  {
   "cell_type": "markdown",
   "id": "fdbafbab-5a94-4a59-906f-f9d68e271cb2",
   "metadata": {},
   "source": [
    "Q14. In a study of the effects of caffeine on reaction time, a sample of 30 participants had an average\n",
    "reaction time of 0.25 seconds with a standard deviation of 0.05 seconds. Conduct a hypothesis test to\n",
    "determine if the caffeine has a significant effect on reaction time at a 90% confidence level using a t-test."
   ]
  },
  {
   "cell_type": "code",
   "execution_count": 1,
   "id": "d5debd1e-476c-4ff3-9125-07d89cbbb85f",
   "metadata": {},
   "outputs": [
    {
     "name": "stdout",
     "output_type": "stream",
     "text": [
      "t-value:  1.699\n",
      "t-test:  1.0954451150103333\n",
      "\n",
      "Null Hypothesis True: Caffeine has no significant effect on reaction time.\n"
     ]
    }
   ],
   "source": [
    "\"\"\"\n",
    "Null Hypothesis (H0): Caffeine has no significant effect on reaction time.\n",
    "Alternative Hypothesis (H1): Caffeine has a significant effect on reaction time. \n",
    "\"\"\"\n",
    "\n",
    "# Import Library\n",
    "import math\n",
    "\n",
    "# Details\n",
    "sample_size=30\n",
    "sample_mean=0.25\n",
    "sample_std=0.05\n",
    "t_value=1.699\n",
    "\n",
    "\n",
    "# Now we take any value for Population mean\n",
    "population_mean=0.24\n",
    "\n",
    "\n",
    "# Perform One Tailed T-test\n",
    "t_test=(sample_mean-population_mean)/(sample_std/math.sqrt(sample_size))\n",
    "\n",
    "\n",
    "print(\"t-value: \",t_value) # 1.699\n",
    "print(\"t-test: \",t_test) #  1.0954451150103333\n",
    "print()\n",
    "\n",
    "\n",
    "# Make Decision Whether Null Hypothesis True or Alternative Hypothesis True\n",
    "if t_test<t_value and t_test>-t_value:\n",
    "    print(\"Null Hypothesis True: Caffeine has no significant effect on reaction time.\")\n",
    "else:\n",
    "    print(\"Alternative Hypothesis True: Caffeine has a significant effect on reaction time.\")"
   ]
  }
 ],
 "metadata": {
  "kernelspec": {
   "display_name": "Python 3 (ipykernel)",
   "language": "python",
   "name": "python3"
  },
  "language_info": {
   "codemirror_mode": {
    "name": "ipython",
    "version": 3
   },
   "file_extension": ".py",
   "mimetype": "text/x-python",
   "name": "python",
   "nbconvert_exporter": "python",
   "pygments_lexer": "ipython3",
   "version": "3.10.8"
  }
 },
 "nbformat": 4,
 "nbformat_minor": 5
}
