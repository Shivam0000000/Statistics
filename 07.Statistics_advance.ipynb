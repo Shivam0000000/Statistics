{
 "cells": [
  {
   "cell_type": "markdown",
   "id": "f20c77c1-8df4-4bd1-8369-d58852017ea7",
   "metadata": {},
   "source": [
    "Q1. Calculate the 95% confidence interval for a sample of data with a mean of 50 and a standard deviation\n",
    "of 5 using Python. Interpret the results.\n"
   ]
  },
  {
   "cell_type": "code",
   "execution_count": 4,
   "id": "190f5530-16ef-402b-a508-c0937ed89349",
   "metadata": {},
   "outputs": [
    {
     "name": "stdout",
     "output_type": "stream",
     "text": [
      "I am 95% confident that population mean lie between  49.02  and  50.98\n"
     ]
    }
   ],
   "source": [
    "# Import library\n",
    "import math\n",
    "\n",
    "# Function defination\n",
    "def Calculate_intervals(z_value,sample_std,sample_size):\n",
    "    margin_of_error=(z_value)*(sample_std/math.sqrt(sample_size))\n",
    "    lower_CI=sample_mean-margin_of_error\n",
    "    upper_CI=sample_mean+margin_of_error\n",
    "    return lower_CI,upper_CI\n",
    "\n",
    "\n",
    "# Sample Details\n",
    "sample_mean = 50\n",
    "sample_std = 5\n",
    "confidence_level = 0.95\n",
    "sample_size = 100  # You need to provide the sample size for accurate results\n",
    "z_value=1.96\n",
    "\n",
    "# Function Call\n",
    "lower_CI,upper_CI=Calculate_intervals(z_value,sample_std,sample_size)\n",
    "\n",
    "\n",
    "# 49.02  and  50.98\n",
    "print(\"I am 95% confident that population mean lie between \",lower_CI,\" and \",upper_CI)"
   ]
  },
  {
   "cell_type": "markdown",
   "id": "913eaf26-6c04-4f15-a135-e391b19511fa",
   "metadata": {},
   "source": [
    "Q2. Conduct a chi-square goodness of fit test to determine if the distribution of colors of M&Ms in a bag\n",
    "matches the expected distribution of 20% blue, 20% orange, 20% green, 10% yellow, 10% red, and 20%\n",
    "brown. Use Python to perform the test with a significance level of 0.05.\n"
   ]
  },
  {
   "cell_type": "code",
   "execution_count": 5,
   "id": "26efdfb2-4ca6-4a1d-9da2-4bd00c5ab84f",
   "metadata": {},
   "outputs": [
    {
     "name": "stdout",
     "output_type": "stream",
     "text": [
      "Chi-square Test:  21.875\n",
      "P Value:  0.0005530332943223907\n",
      "Critical Value:  11.070497693516351\n",
      "Reject the null hypothesis\n"
     ]
    }
   ],
   "source": [
    "\"\"\"\n",
    "Null Hypothesis (H0): The new weight loss drug is not significantly effective.\n",
    "\n",
    "Alternative Hypothesis (Ha): The new weight loss drug is significantly effective.\n",
    "\"\"\"\n",
    "\n",
    "from scipy import stats\n",
    "# Observed Data\n",
    "sample_size=200\n",
    "obs_colors=[30,50,40,20,35,25]\n",
    "\n",
    "\n",
    "# Expected Data\n",
    "exp_colors=[0.2*sample_size,0.2*sample_size,0.2*sample_size,0.1*sample_size,0.1*sample_size,0.2*sample_size]\n",
    "\n",
    "# Chisquare Goodness of fit Test\n",
    "chisquare_statistic,p_value=stats.chisquare(obs_colors,exp_colors)\n",
    "print(\"Chi-square Test: \",chisquare_statistic)\n",
    "print(\"P Value: \",p_value)\n",
    "\n",
    "\n",
    "# Find critical Value\n",
    "aplha=0.05\n",
    "df=len(obs_colors)-1\n",
    "critical_value=stats.chi2.ppf(1-aplha,df)\n",
    "print(\"Critical Value: \",critical_value)\n",
    "\n",
    "if chisquare_statistic > critical_value:\n",
    "    print(\"Reject the null hypothesis\")\n",
    "else:\n",
    "    print(\"Accept the null hypothesis\")"
   ]
  },
  {
   "cell_type": "markdown",
   "id": "ff43abc5-80d6-48b4-9f6a-52e5e747e4f8",
   "metadata": {},
   "source": [
    "Q3. Use Python to calculate the chi-square statistic and p-value for a contingency table with the following\n",
    "data:\n",
    "\n",
    "          Group A       Group B\n",
    "\n",
    "Outcome 1    20            15\n",
    "\n",
    "Outcome 2    10            25\n",
    "\n",
    "Outcome 3    15            20\n",
    "\n",
    "Interpret the results of the test."
   ]
  },
  {
   "cell_type": "code",
   "execution_count": 8,
   "id": "7c96b883-80fe-4228-af05-1452d568727f",
   "metadata": {},
   "outputs": [
    {
     "name": "stdout",
     "output_type": "stream",
     "text": [
      "Chi-Square Test:  5.833333333333334\n",
      "P Value:  0.05411376622282158\n",
      "Critical Value:  5.991464547107979\n",
      "We fail to Reject the Null hypothesis\n"
     ]
    }
   ],
   "source": [
    "# import labraries\n",
    "import numpy as np\n",
    "import scipy.stats as stats\n",
    "\n",
    "\n",
    "# Observed Data\n",
    "table=np.array([[20,10,15],[15,25,20]])\n",
    "\n",
    "\n",
    "# Chi-Square Test\n",
    "chi_test=stats.chi2_contingency(table)\n",
    "chi_stats,p_value=chi_test[0],chi_test[1]\n",
    "print(\"Chi-Square Test: \",chi_stats)\n",
    "print(\"P Value: \",p_value)\n",
    "\n",
    "\n",
    "# Find critical value\n",
    "alpha=0.05\n",
    "df=2\n",
    "critical_value=stats.chi2.ppf(1-alpha,df=df)\n",
    "print(\"Critical Value: \",critical_value)\n",
    "\n",
    "\n",
    "if chi_stats>critical_value:\n",
    "    print(\"We Reject the Null hypothesis\")\n",
    "else:\n",
    "    print(\"We fail to Reject the Null hypothesis\")"
   ]
  },
  {
   "cell_type": "markdown",
   "id": "330fca69-b586-47ac-8831-9db8c0de9004",
   "metadata": {},
   "source": [
    "Q4. A study of the prevalence of smoking in a population of 500 individuals found that 60 individuals\n",
    "smoked. Use Python to calculate the 95% confidence interval for the true proportion of individuals in the\n",
    "population who smoke.\n"
   ]
  },
  {
   "cell_type": "code",
   "execution_count": null,
   "id": "1803aea1-6416-4c88-9330-9378f3903487",
   "metadata": {},
   "outputs": [],
   "source": [
    "# import library\n",
    "import math\n",
    "\n",
    "#Detaild\n",
    "sample_size=500\n",
    "sample_proportion=.12\n",
    "z_value=1.96\n",
    "\n",
    "# Estimate Confidence Interval\n",
    "margin_of_error=(z_value)*math.sqrt((sample_proportion * (1-sample_proportion)/(sample_size)))\n",
    "lower_CI=sample_proportion-margin_of_error\n",
    "upper_CI=sample_proportion+margin_of_error\n",
    "\n",
    "\n",
    "# 9.15158654686508  and  14.84841345313492\n",
    "print(\"I am 95% confident for the people who smoke lie between \",lower_CI*100,\" and \",upper_CI*100)"
   ]
  },
  {
   "cell_type": "markdown",
   "id": "7df97d1a-0bb7-44ce-a875-3ebd61806d29",
   "metadata": {},
   "source": [
    "Q5. Calculate the 90% confidence interval for a sample of data with a mean of 75 and a standard deviation\n",
    "of 12 using Python. Interpret the results.\n"
   ]
  },
  {
   "cell_type": "code",
   "execution_count": null,
   "id": "9eedcb55-b4e9-4a24-aaaa-cb3b9fa7761d",
   "metadata": {},
   "outputs": [],
   "source": [
    "# import library\n",
    "from scipy import stats\n",
    "\n",
    "# Function Defination\n",
    "def Calculate_intervals(sample_mean,sample_std,sample_size,alpha):\n",
    "    z_value = stats.norm.ppf(1 - (alpha/2))\n",
    "    margin_of_error=z_value*(sample_std/(sample_size)**0.5)\n",
    "    lower_CI=sample_mean-margin_of_error\n",
    "    upper_CI=sample_mean+margin_of_error\n",
    "    return lower_CI,upper_CI\n",
    "\n",
    "# Sample Details\n",
    "sample_mean=75\n",
    "sample_std=12\n",
    "sample_size=30\n",
    "alpha=0.1\n",
    "\n",
    "# Function Call\n",
    "lower_CI,upper_CI=Calculate_intervals(sample_mean,sample_std,sample_size,alpha)\n",
    "\n",
    "#  71.39630625889797  and  78.60369374110203\n",
    "print(\"I am 95% confident that population mean lie between \",lower_CI,\" and \",upper_CI)"
   ]
  },
  {
   "cell_type": "markdown",
   "id": "5fa3590b-96af-46c5-84e1-b270ff4071f9",
   "metadata": {},
   "source": [
    "Q6. Use Python to plot the chi-square distribution with 10 degrees of freedom. Label the axes and shade the\n",
    "area corresponding to a chi-square statistic of 15.\n"
   ]
  },
  {
   "cell_type": "code",
   "execution_count": null,
   "id": "a81b6c3e-dd0d-4859-bfcf-bf10b099770e",
   "metadata": {},
   "outputs": [],
   "source": [
    "import numpy as np\n",
    "import matplotlib.pyplot as plt\n",
    "import scipy.stats as stats\n",
    "\n",
    "# Degrees of freedom\n",
    "df = 10\n",
    "\n",
    "# Define the range of x values for the chi-square distribution\n",
    "x = np.linspace(0, 30, 500)\n",
    "\n",
    "# Calculate the probability density function (PDF) values\n",
    "pdf = stats.chi2.pdf(x, df)\n",
    "\n",
    "# Create the plot\n",
    "plt.figure(figsize=(10, 6))\n",
    "plt.plot(x, pdf, label=f'Chi-Square with {df} degrees of freedom')\n",
    "plt.xlabel('Chi-Square Statistic')\n",
    "plt.ylabel('Probability Density Function')\n",
    "plt.title(f'Chi-Square Distribution with {df} degrees of freedom')\n",
    "plt.axvline(x=15, color='r', linestyle='--', label='Chi-Square Statistic = 15')\n",
    "plt.fill_between(x, pdf, where=(x >= 15), color='gray', alpha=0.2)\n",
    "plt.legend()\n",
    "plt.grid(True)\n",
    "plt.show()\n"
   ]
  },
  {
   "cell_type": "markdown",
   "id": "18684ac3-1022-4273-8b73-03168286e9e8",
   "metadata": {
    "tags": []
   },
   "source": [
    "Q7. A random sample of 1000 people was asked if they preferred Coke or Pepsi. Of the sample, 520\n",
    "preferred Coke. Calculate a 99% confidence interval for the true proportion of people in the population who\n",
    "prefer Coke.\n"
   ]
  },
  {
   "cell_type": "code",
   "execution_count": null,
   "id": "57ff72cf-717e-4965-923b-e36716a2b5b4",
   "metadata": {},
   "outputs": [],
   "source": [
    "# import library\n",
    "import math\n",
    "\n",
    "#Detaild\n",
    "sample_size=1000\n",
    "sample_proportion=.52\n",
    "z_value=2.58\n",
    "\n",
    "\n",
    "# Estimate Confidence Interval\n",
    "margin_of_error=(z_value)*math.sqrt((sample_proportion * (1-sample_proportion)/(sample_size)))\n",
    "lower_CI=sample_proportion-margin_of_error\n",
    "upper_CI=sample_proportion+margin_of_error\n",
    "\n",
    "\n",
    "# 47.92392659536166  and  56.076073404638336\n",
    "print(\"I am 99% confident for the people who prefer Coke lie between \",lower_CI*100,\" and \",upper_CI*100)"
   ]
  },
  {
   "cell_type": "markdown",
   "id": "0396e659-c5fa-41ce-9d6b-8b9e64db5547",
   "metadata": {},
   "source": [
    "Q8. A researcher hypothesizes that a coin is biased towards tails. They flip the coin 100 times and observe\n",
    "45 tails. Conduct a chi-square goodness of fit test to determine if the observed frequencies match the\n",
    "expected frequencies of a fair coin. Use a significance level of 0.05.\n"
   ]
  },
  {
   "cell_type": "code",
   "execution_count": null,
   "id": "5994802b-fc97-45ba-9bc3-f4ba47cac0ed",
   "metadata": {},
   "outputs": [],
   "source": [
    "# import library\n",
    "import scipy.stats as stats\n",
    "\n",
    "\n",
    "# observed data\n",
    "observed_tails=45\n",
    "\n",
    "\n",
    "#expected data\n",
    "expected_tails=50\n",
    "\n",
    "\n",
    "# Chi-square Test\n",
    "chi_square_test=(45-50)**2/50\n",
    "\n",
    "\n",
    "# Find critical Value\n",
    "alpha = 0.05\n",
    "critical_chi_squared = stats.chi2.ppf(1 - alpha, df)\n",
    "\n",
    "\n",
    "if chi_square_test > critical_chi_squared:\n",
    "    print(\"Reject the null hypothesis: The coin is biased towards tails.\")\n",
    "else:\n",
    "    print(\"Fail to reject the null hypothesis: The coin is not biased towards tails.\")"
   ]
  },
  {
   "cell_type": "markdown",
   "id": "177e2601-28e2-4ab2-a973-9c04e84a7712",
   "metadata": {},
   "source": [
    "Q9. A study was conducted to determine if there is an association between smoking status (smoker or\n",
    "non-smoker) and lung cancer diagnosis (yes or no). The results are shown in the contingency table below.\n",
    "Conduct a chi-square test for independence to determine if there is a significant association between\n",
    "smoking status and lung cancer diagnosis.\n",
    "\n",
    "            Lung Cancer: Yes          Lung Cancer: No\n",
    "\n",
    "Smoker       60                       140\n",
    "\n",
    "Non-smoker   30                       170\n",
    "\n",
    "Use a significance level of 0.05."
   ]
  },
  {
   "cell_type": "code",
   "execution_count": 10,
   "id": "c2418462-5bd9-449b-91f8-d7d1454add3a",
   "metadata": {},
   "outputs": [
    {
     "name": "stdout",
     "output_type": "stream",
     "text": [
      "Chi-Square Test:  12.057347670250895\n",
      "P Value:  0.0005158863863703744\n",
      "Critical Value:  3.841458820694124\n",
      "There is a significant association between smoking status and lung cancer diagnosis\n"
     ]
    }
   ],
   "source": [
    "\"\"\"\n",
    "Null Hypothesis: There is no significant association between smoking status and lung cancer diagnosis.\n",
    "Alternative Hypothesis: There is a significant association between smoking status and lung cancer diagnosis.\n",
    "\"\"\"\n",
    "\n",
    "# import labraries\n",
    "import numpy as np\n",
    "import scipy.stats as stats\n",
    "\n",
    "\n",
    "# Observed Data\n",
    "table=np.array([[60,140],[30,170]])\n",
    "\n",
    "\n",
    "# Chi-Square Test\n",
    "chi_test=stats.chi2_contingency(table)\n",
    "chi_stats,p_value=chi_test[0],chi_test[1]\n",
    "print(\"Chi-Square Test: \",chi_stats)\n",
    "print(\"P Value: \",p_value)\n",
    "\n",
    "\n",
    "# Find critical value\n",
    "alpha=0.05\n",
    "df=1\n",
    "critical_value=stats.chi2.ppf(1-alpha,df=df)\n",
    "print(\"Critical Value: \",critical_value)\n",
    "\n",
    "\n",
    "if chi_stats>critical_value:\n",
    "    print(\"There is a significant association between smoking status and lung cancer diagnosis\")\n",
    "else:\n",
    "    print(\"There is no significant association between smoking status and lung cancer diagnosis\")\n"
   ]
  },
  {
   "cell_type": "markdown",
   "id": "1d701e8f-e2e4-448e-aa53-1e273a54d3c7",
   "metadata": {},
   "source": [
    "Q10. A study was conducted to determine if the proportion of people who prefer milk chocolate, dark\n",
    "chocolate, or white chocolate is different in the U.S. versus the U.K. A random sample of 500 people from\n",
    "the U.S. and a random sample of 500 people from the U.K. were surveyed. The results are shown in the\n",
    "contingency table below. Conduct a chi-square test for independence to determine if there is a significant\n",
    "association between chocolate preference and country of origin.\n",
    "\n",
    "                 Milk Chocolate     Dark Chocolate   White Chocolate\n",
    "\n",
    "U.S. (n=500)     200                150              150\n",
    "\n",
    "\n",
    "U.K. (n=500)     225                175              100\n",
    "\n",
    "Use a significance level of 0.01."
   ]
  },
  {
   "cell_type": "code",
   "execution_count": 13,
   "id": "36b64acd-b9ab-44b2-90cc-07cb203d0ee3",
   "metadata": {},
   "outputs": [
    {
     "name": "stdout",
     "output_type": "stream",
     "text": [
      "Chi-Square Test:  13.393665158371041\n",
      "P Value:  0.0012348168997745918\n",
      "Critical Value:  9.21034037197618\n",
      "There is a significant association between chocolate preference and country of origin.\n"
     ]
    }
   ],
   "source": [
    "\"\"\"\n",
    "Null hypothesis: There is no significant association between chocolate preference and country of origin.\n",
    "Alternative hypothesis: There is a significant association between chocolate preference and country of origin.\n",
    "\"\"\"\n",
    "\n",
    "# import labraries\n",
    "import numpy as np\n",
    "import scipy.stats as stats\n",
    "\n",
    "\n",
    "# Observed Data\n",
    "table=np.array([[200,150,150],[225,175,100]])\n",
    "\n",
    "\n",
    "# Chi-Square Test\n",
    "chi_test=stats.chi2_contingency(table)\n",
    "chi_stats,p_value=chi_test[0],chi_test[1]\n",
    "print(\"Chi-Square Test: \",chi_stats)\n",
    "print(\"P Value: \",p_value)\n",
    "\n",
    "\n",
    "# Find critical value\n",
    "alpha=0.01\n",
    "df=2\n",
    "critical_value=stats.chi2.ppf(1-alpha,df=df)\n",
    "print(\"Critical Value: \",critical_value)\n",
    "\n",
    "\n",
    "if chi_stats>critical_value:\n",
    "    print(\"There is a significant association between chocolate preference and country of origin.\")\n",
    "else:\n",
    "    print(\"There is no significant association between chocolate preference and country of origin.\")\n"
   ]
  },
  {
   "cell_type": "markdown",
   "id": "d6736eb4-adc3-4183-8ed1-ded83af24383",
   "metadata": {},
   "source": [
    "Q11. A random sample of 30 people was selected from a population with an unknown mean and standard\n",
    "deviation. The sample mean was found to be 72 and the sample standard deviation was found to be 10.\n",
    "Conduct a hypothesis test to determine if the population mean is significantly different from 70. Use a\n",
    "significance level of 0.05."
   ]
  },
  {
   "cell_type": "code",
   "execution_count": null,
   "id": "8075a8a3-274f-4193-8370-3d4562a1ef1b",
   "metadata": {},
   "outputs": [],
   "source": [
    "\"\"\"\n",
    "Null hypothesis: The population mean is equal to 70 \n",
    "Alternative hypothesis: The population mean is not equal to 70\n",
    "\"\"\"\n",
    "#import library\n",
    "import scipy.stats as stats\n",
    "# sample details\n",
    "sample_size=30\n",
    "sample_mean=72\n",
    "sample_std=10\n",
    "\n",
    "#hypothical popuationmean\n",
    "population_mean=70\n",
    "\n",
    "\n",
    "# perform t test\n",
    "t_test=(sample_mean-population_mean)/(sample_std/(sample_size**0.5))\n",
    "\n",
    "\n",
    "# Find critical intervals\n",
    "alpha=0.05\n",
    "df=29\n",
    "critical_value=stats.t.ppf(1-(alpha/2),df=df)\n",
    "\n",
    "\n",
    "if t_test > critical_value:\n",
    "    print(\"Reject the null hypothesis: Population mean is significantly different from 70.\")\n",
    "else:\n",
    "    print(\"Fail to reject the null hypothesis: No significant difference detected.\")"
   ]
  }
 ],
 "metadata": {
  "kernelspec": {
   "display_name": "Python 3 (ipykernel)",
   "language": "python",
   "name": "python3"
  },
  "language_info": {
   "codemirror_mode": {
    "name": "ipython",
    "version": 3
   },
   "file_extension": ".py",
   "mimetype": "text/x-python",
   "name": "python",
   "nbconvert_exporter": "python",
   "pygments_lexer": "ipython3",
   "version": "3.10.8"
  }
 },
 "nbformat": 4,
 "nbformat_minor": 5
}
