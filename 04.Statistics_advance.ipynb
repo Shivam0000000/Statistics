{
 "cells": [
  {
   "cell_type": "markdown",
   "id": "8be50b92-c0cb-4e1d-bba7-1d66a071f951",
   "metadata": {},
   "source": [
    "Q1: What are the Probability Mass Function (PMF) and Probability Density Function (PDF)? Explain with\n",
    "an example.\n"
   ]
  },
  {
   "cell_type": "code",
   "execution_count": null,
   "id": "1e7bb990-da24-4040-ac16-9d46a5c04b9d",
   "metadata": {},
   "outputs": [],
   "source": [
    "\"\"\"\n",
    "The Probability Mass Function (PMF) and Probability Density Function (PDF) are both concepts \n",
    "used in probability theory and statistics to describe the probability distribution of a random\n",
    "variable.\n",
    "\n",
    "\n",
    "Probability Mass Function (PMF):\n",
    "The PMF is a function that gives the probability of a discrete random variable taking on a specific\n",
    "value. In other words, it maps each possible value of the discrete random variable to its probability\n",
    "of occurrence.\n",
    "The PMF must satisfy two conditions:\n",
    "a) The probability for each value must be between 0 and 1.\n",
    "b) The sum of probabilities for all possible values must be equal to 1.\n",
    "\n",
    "Example of PMF:\n",
    "Let's consider a fair six-sided die. The random variable X represents the outcome when the die is rolled.\n",
    "The possible values of X are {1, 2, 3, 4, 5, 6}, and each outcome has an equal chance of 1/6.\n",
    "\n",
    "The PMF of X can be written as:\n",
    "PMF(X = 1) = 1/6\n",
    "PMF(X = 2) = 1/6\n",
    "PMF(X = 3) = 1/6\n",
    "PMF(X = 4) = 1/6\n",
    "PMF(X = 5) = 1/6\n",
    "PMF(X = 6) = 1/6\n",
    "\n",
    "\n",
    "Probability Density Function (PDF):\n",
    "The PDF is a function that describes the probability distribution of a continuous random variable.\n",
    "Unlike the PMF, which deals with discrete variables, the PDF is used for continuous random variables.\n",
    "The PDF represents the relative likelihood of the random variable taking on a particular value within\n",
    "a given range. The area under the PDF curve over a range represents the probability of the random variable\n",
    "falling within that range.\n",
    "\n",
    "Example of PDF:\n",
    "Let's consider a continuous random variable Y representing the height of individuals in a population.\n",
    "The heights can take any real value between a minimum and maximum height.\n",
    "\"\"\""
   ]
  },
  {
   "cell_type": "markdown",
   "id": "adc1f0f4-0d03-4bdd-a3ec-cddff4375d1c",
   "metadata": {},
   "source": [
    "Q2: What is Cumulative Density Function (CDF)? Explain with an example. Why CDF is used?\n"
   ]
  },
  {
   "cell_type": "code",
   "execution_count": null,
   "id": "7d359f50-fe32-4707-ab68-2ac7bb3bdd1d",
   "metadata": {},
   "outputs": [],
   "source": [
    "\"\"\"\n",
    "The Cumulative Density Function (CDF) is a probability function that gives the cumulative probability \n",
    "of a random variable being less than or equal to a specific value. It is denoted as F(x) for a random\n",
    "variable X. For a continuous variable, it's obtained by integrating the Probability Density Function (PDF)\n",
    "up to the given value. For discrete variables, it's the sum of probabilities up to the specified value. \n",
    "The CDF is used to calculate probabilities within a range, identify percentiles, compare distributions,\n",
    "and analyze random variable behavior in various fields, including statistics, finance, and engineering.\n",
    "\n",
    "\n",
    "Mathematically, for a random variable X, the CDF is denoted by F(x) and is defined as:\n",
    "\n",
    "F(x) = P(X ≤ x)\n",
    "\n",
    "where x is a specific value, and P(X ≤ x) represents the probability that X is less than or equal to x.\n",
    "\n",
    "Example of CDF:\n",
    "Let's consider the same example of a fair six-sided die as in the PMF explanation. The random variable X \n",
    "represents the outcome when the die is rolled.\n",
    "\n",
    "The PMF for the die is:\n",
    "PMF(X = 1) = 1/6\n",
    "PMF(X = 2) = 1/6\n",
    "PMF(X = 3) = 1/6\n",
    "PMF(X = 4) = 1/6\n",
    "PMF(X = 5) = 1/6\n",
    "PMF(X = 6) = 1/6\n",
    "\n",
    "Why is the CDF used?\n",
    "\n",
    "The CDF is a valuable tool in probability and statistics for several reasons:\n",
    "\n",
    "(1)Probability Calculation: The CDF provides a convenient way to calculate the probability of a random variable\n",
    "                         falling within a specific range or being less than or equal to a certain value.\n",
    "\n",
    "(2)Relationship with PDF and PMF: The CDF is related to both the PDF (for continuous variables) and PMF\n",
    "                               (for discrete variables). The CDF can be derived from the PDF or obtained\n",
    "                               by summing up the PMF.\n",
    "\n",
    "(3)Identifying Percentiles: The CDF allows us to determine percentiles of a random variable. For example,\n",
    "                            the median corresponds to the value where the CDF is 0.5, meaning the random \n",
    "                            variable has a 50% chance of being less than or equal to that value.\n",
    "\n",
    "(4)Comparing Distributions: CDFs are useful for comparing different probability distributions and understanding \n",
    "                            how they differ in terms of spread, central tendency, and other characteristics.\n",
    "\"\"\"                            "
   ]
  },
  {
   "cell_type": "markdown",
   "id": "250893e1-f6d5-4e8a-ae18-854f43dce28a",
   "metadata": {},
   "source": [
    "Q3: What are some examples of situations where the normal distribution might be used as a model?\n",
    "Explain how the parameters of the normal distribution relate to the shape of the distribution.\n"
   ]
  },
  {
   "cell_type": "code",
   "execution_count": null,
   "id": "d834de3e-0630-4505-aa6e-c7d05d569c8c",
   "metadata": {},
   "outputs": [],
   "source": [
    "\"\"\"\n",
    "The normal distribution, also known as the Gaussian distribution, is a commonly used probability\n",
    "distribution in various fields due to its versatility and widespread applicability. It is characterized \n",
    "by its bell-shaped curve, which is symmetric around its mean.\n",
    "\n",
    "\n",
    "\n",
    "Examples of situations where the normal distribution might be used as a model include:\n",
    "\n",
    "->Height of Individuals: The heights of a large group of people tend to follow a normal distribution.\n",
    "\n",
    "->Test Scores: Test scores of a well-designed exam often approximate a normal distribution.\n",
    "\n",
    "->Errors in Measurements: Errors in measurements, such as in experimental data, can often be modeled \n",
    "                          using the normal distribution.\n",
    "\n",
    "->Natural Phenomena: Certain natural phenomena, like the distribution of IQ scores, shoe sizes, or \n",
    "                     birth weights in a population, can be approximated by the normal distribution.\n",
    "\n",
    "\n",
    "\n",
    "Parameters of the normal distribution and their relation to the shape of the distribution:\n",
    "\n",
    "Mean (μ): The mean represents the center of the distribution and is the expected value of the random variable.\n",
    "          It determines where the peak of the bell-shaped curve is located.\n",
    "\n",
    "Standard Deviation (σ): The standard deviation measures the spread or dispersion of the data points from the mean. \n",
    "                        A larger standard deviation results in a wider and flatter curve, while a smaller standard \n",
    "                        deviation yields a narrower and taller curve.\n",
    "\n",
    "Variance (σ^2): The variance is the square of the standard deviation and quantifies the average squared distance of\n",
    "                data points from the mean. It also impacts the shape of the distribution, with a larger variance leading \n",
    "                to a broader curve."
   ]
  },
  {
   "cell_type": "markdown",
   "id": "7084ce0a-19ea-4ac9-9008-e731bd1a885e",
   "metadata": {},
   "source": [
    "Q4: Explain the importance of Normal Distribution. Give a few real-life examples of Normal\n",
    "Distribution.\n"
   ]
  },
  {
   "cell_type": "code",
   "execution_count": null,
   "id": "bfc2cafe-5ec3-4657-9a13-8ba1f1acea40",
   "metadata": {},
   "outputs": [],
   "source": [
    "\"\"\"\n",
    "The Normal Distribution is of paramount importance in various fields due to its unique properties and \n",
    "widespread occurrence in nature. Its significance lies in:\n",
    "\n",
    "\n",
    "Central Limit Theorem: The Normal Distribution plays a crucial role in the Central Limit Theorem, \n",
    "which states that the sum or average of a large number of independent and identically distributed\n",
    "random variables will tend to follow a Normal Distribution, regardless of the underlying distribution\n",
    "of the individual variables. This property makes it applicable to various scenarios, even when the\n",
    "original data may not be normally distributed.\n",
    "\n",
    "\n",
    "\n",
    "\n",
    "Real-life examples of Normal Distribution:\n",
    "\n",
    "\n",
    "(1)Errors in Measurement: Measurement errors, such as in scientific experiments or industrial processes, \n",
    "                          often conform to a Normal Distribution. These errors can be attributed to various\n",
    "                          factors, leading to a bell-shaped distribution of errors around the true value.\n",
    "\n",
    "(2)IQ Scores: Intelligence quotient (IQ) scores of a population tend to follow a Normal Distribution.\n",
    "              Most people have average intelligence (around the mean), while fewer individuals have \n",
    "              extremely high or low IQs.\n",
    "\n",
    "(3)Economic Indicators: Many economic indicators, like stock returns and household incomes, exhibit a \n",
    "                        Normal Distribution in large populations over extended periods, with a peak\n",
    "                        around the mean value.\n",
    "\"\"\"                        "
   ]
  },
  {
   "cell_type": "markdown",
   "id": "af05a469-138e-4d55-b708-17618ef4e763",
   "metadata": {},
   "source": [
    "Q5: What is Bernaulli Distribution? Give an Example. What is the difference between Bernoulli\n",
    "Distribution and Binomial Distribution?\n"
   ]
  },
  {
   "cell_type": "code",
   "execution_count": null,
   "id": "0bffb0d3-21a4-475f-bce8-04cc9eb93a82",
   "metadata": {},
   "outputs": [],
   "source": [
    "\"\"\"\n",
    "Bernoulli Distribution is a discrete probability distribution representing the outcome of a single \n",
    "binary random experiment with two possible outcomes: success (1) and failure (0). It has a single \n",
    "parameter \"p\" denoting the probability of success in a single trial. An example is modeling a fair\n",
    "coin toss, where heads is considered success (1) with a probability of 0.5.\n",
    "\n",
    "\n",
    "The key difference between Bernoulli and Binomial Distributions is that Bernoulli deals with a single trial,\n",
    "while Binomial deals with the number of successes in a fixed number of independent Bernoulli trials. \n",
    "Binomial Distribution has two parameters, \"n\" (number of trials) and \"p\" (probability of success in each trial),\n",
    "allowing for multiple trials and counting the total number of successes.\n",
    "\"\"\""
   ]
  },
  {
   "cell_type": "markdown",
   "id": "26c850af-92d9-4787-84e8-5e13a078ea6f",
   "metadata": {},
   "source": [
    "Q6. Consider a dataset with a mean of 50 and a standard deviation of 10. If we assume that the dataset\n",
    "is normally distributed, what is the probability that a randomly selected observation will be greater\n",
    "than 60? Use the appropriate formula and show your calculations.\n"
   ]
  },
  {
   "cell_type": "code",
   "execution_count": 1,
   "id": "12475bee-cb45-4296-bc9c-c074ff59583d",
   "metadata": {},
   "outputs": [
    {
     "name": "stdout",
     "output_type": "stream",
     "text": [
      "0.15865525393145707\n"
     ]
    }
   ],
   "source": [
    "from scipy.stats import norm\n",
    "mean=50\n",
    "std=10\n",
    "size=100\n",
    "print(1-norm.cdf(60,mean,std))"
   ]
  },
  {
   "cell_type": "markdown",
   "id": "4afe1328-46e7-4fd3-b44d-d5fd9142b007",
   "metadata": {},
   "source": [
    "Q7: Explain uniform Distribution with an example.\n"
   ]
  },
  {
   "cell_type": "code",
   "execution_count": 6,
   "id": "ba24c824-084a-41df-98b7-9a30c6818fec",
   "metadata": {},
   "outputs": [
    {
     "data": {
      "text/plain": [
       "0.15865525393145707"
      ]
     },
     "execution_count": 6,
     "metadata": {},
     "output_type": "execute_result"
    }
   ],
   "source": [
    "\"\"\"\n",
    "Uniform Distribution is a continuous probability distribution that represents random variables with equal\n",
    "probabilities over a specified range. In simple terms, it means that all values within the range are \n",
    "equally likely to occur.\n",
    "\n",
    "\n",
    "Example: \n",
    "\n",
    "Rolling a fair six-sided die. Each face of the die has an equal probability of 1/6 of landing face-up.\n",
    "The outcome of rolling the die follows a Uniform Distribution, as each number from 1 to 6 is equally \n",
    "likely to occur.\n",
    "\n",
    "In a Uniform Distribution, the probability density function is constant over the range of possible values,\n",
    "and it is represented as:\n",
    "\n",
    "f(x) = 1 / (b - a) for a ≤ x ≤ b\n",
    "f(x) = 0 otherwise\n",
    "\"\"\""
   ]
  },
  {
   "cell_type": "markdown",
   "id": "3c2cb8e9-9372-4839-9817-9596fec11cc1",
   "metadata": {},
   "source": [
    "Q8: What is the z score? State the importance of the z score.\n"
   ]
  },
  {
   "cell_type": "code",
   "execution_count": null,
   "id": "038a21b2-df29-4c1f-892b-31e209b30898",
   "metadata": {},
   "outputs": [],
   "source": [
    "\"\"\"\n",
    "The z-score is a statistical measure that indicates how many standard deviations a data point is from \n",
    "the mean of a dataset. It standardizes data, allowing comparisons between different datasets. \n",
    "\n",
    "Mathematically, the z-score of a data point 'x' in a dataset with mean 'μ' and standard deviation 'σ'\n",
    "is calculated as:\n",
    "                 \n",
    "z = (x - μ) / σ\n",
    "\n",
    "\n",
    "\n",
    "The importance of the z-score lies in its ability to identify outliers, calculate probabilities \n",
    "in a standard normal distribution, aid in hypothesis testing, and provide valuable insights into the \n",
    "relative position of a data point within a dataset. It is a fundamental tool for data analysis, enabling \n",
    "researchers and analysts to draw meaningful conclusions and make informed decisions based on standardized\n",
    "data.\n",
    "\"\"\""
   ]
  },
  {
   "cell_type": "markdown",
   "id": "764a0eac-33cb-4d41-be15-d0a941ed00fc",
   "metadata": {},
   "source": [
    "Q9: What is Central Limit Theorem? State the significance of the Central Limit Theorem.\n"
   ]
  },
  {
   "cell_type": "code",
   "execution_count": null,
   "id": "af168128-dccd-4e02-a4f7-ac56880d0188",
   "metadata": {},
   "outputs": [],
   "source": [
    "\"\"\"\n",
    "The Central Limit Theorem (CLT) is a fundamental concept in statistics. It states that the \n",
    "sampling distribution of the mean of a large number of independent and identically distributed\n",
    "random variables will tend to follow a normal (Gaussian) distribution, regardless of the shape \n",
    "of the original population's distribution.\n",
    "\n",
    "\n",
    "\n",
    "Significance of the Central Limit Theorem:\n",
    "\n",
    "(1)Applicability: The CLT is widely applicable to a broad range of real-world scenarios. It allows \n",
    "               statisticians to confidently use normal distribution-based methods even when the \n",
    "               underlying population distribution is unknown or not normally distributed.\n",
    "\n",
    "(2)Sample Size Independence: The CLT does not depend on the population size; it holds true as long\n",
    "                          as the sample size is sufficiently large, usually above 30. This makes \n",
    "                          it a valuable tool for small or large datasets.\n",
    "\n",
    "(3)Foundation for Inference: The CLT forms the basis for many statistical inference methods, including \n",
    "                          hypothesis testing, confidence intervals, and parameter estimation. It simplifies \n",
    "                          complex calculations and enables researchers to draw valid conclusions from sample data.\n",
    "                          \n",
    "\"\"\"                          "
   ]
  },
  {
   "cell_type": "markdown",
   "id": "c5f732a2-1fd3-4fc3-bff2-4797e9e07a5c",
   "metadata": {},
   "source": [
    "Q10: State the assumptions of the Central Limit Theorem."
   ]
  },
  {
   "cell_type": "code",
   "execution_count": null,
   "id": "55d97efa-82c0-4e6c-bb58-ae627392373c",
   "metadata": {},
   "outputs": [],
   "source": [
    "\"\"\"\n",
    "The Central Limit Theorem (CLT) is a powerful statistical concept, but it relies on certain assumptions to\n",
    "hold true. The main assumptions of the Central Limit Theorem are as follows:\n",
    "\n",
    "->Independence: The random variables in the sample must be independent of each other. This means that the \n",
    "              outcome of one observation should not influence the outcome of another observation.\n",
    "\n",
    "->Identically Distributed: The random variables in the sample must be drawn from the same underlying\n",
    "            population and have the same probability distribution. In other words, they should have \n",
    "            the same mean and standard deviation.\n",
    "\n",
    "->Finite Variance: The underlying population from which the sample is drawn should have a finite variance.\n",
    "                 This ensures that the mean and standard deviation are well-defined.\n",
    "\n",
    "->Sample Size: The CLT is most effective when the sample size is sufficiently large. While there is no strict \n",
    "             rule on the minimum sample size, a commonly used guideline is that the sample size should be\n",
    "             at least 30.\n",
    "\"\"\"                         "
   ]
  }
 ],
 "metadata": {
  "kernelspec": {
   "display_name": "Python 3 (ipykernel)",
   "language": "python",
   "name": "python3"
  },
  "language_info": {
   "codemirror_mode": {
    "name": "ipython",
    "version": 3
   },
   "file_extension": ".py",
   "mimetype": "text/x-python",
   "name": "python",
   "nbconvert_exporter": "python",
   "pygments_lexer": "ipython3",
   "version": "3.10.8"
  }
 },
 "nbformat": 4,
 "nbformat_minor": 5
}
